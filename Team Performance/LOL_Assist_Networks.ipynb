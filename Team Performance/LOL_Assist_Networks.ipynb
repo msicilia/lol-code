{
 "cells": [
  {
   "cell_type": "code",
   "execution_count": 95,
   "metadata": {},
   "outputs": [],
   "source": [
    "import pandas as pd\n",
    "import numpy as np\n",
    "import networkx as nx\n",
    "from networkx.algorithms import bipartite\n",
    "import community\n",
    "import itertools\n",
    "from ast import literal_eval\n",
    "import matplotlib.pyplot as plt\n",
    "%matplotlib inline"
   ]
  },
  {
   "cell_type": "code",
   "execution_count": 2,
   "metadata": {},
   "outputs": [],
   "source": [
    "match_data = pd.read_csv('matches.csv', converters={\"bKills\": literal_eval, \"rKills\": literal_eval})"
   ]
  },
  {
   "cell_type": "code",
   "execution_count": 106,
   "metadata": {},
   "outputs": [
    {
     "name": "stdout",
     "output_type": "stream",
     "text": [
      "[8.105, 'H2K Odoamne', 'SPY Trashy', ['SPY Wunder'], 3424, 10336]\n",
      "[8.619, 'H2K Chei', 'SPY Mikyx', ['SPY Kobbe'], 13475, 4146]\n",
      "[8.819, 'H2K Odoamne', 'SPY Wunder', ['SPY Kobbe', 'SPY Mikyx'], 11772, 3151]\n",
      "[10.893, 'H2K Odoamne', 'SPY Wunder', ['SPY Trashy'], 4466, 10106]\n",
      "[20.773, 'H2K Jankos', 'SPY Trashy', ['SPY Kobbe', 'SPY Mikyx'], 1644, 12634]\n",
      "[20.847, 'H2K Odoamne', 'SPY Sencux', ['SPY Wunder', 'SPY Trashy'], 3022, 12150]\n",
      "[24.275, 'H2K Febiven', 'SPY Mikyx', ['SPY Wunder'], 5298, 6159]\n",
      "[27.156, 'H2K Jankos', 'SPY Kobbe', ['SPY Trashy', 'SPY Sencux', 'SPY Mikyx'], 1914, 2950]\n",
      "[27.26, 'H2K Nuclear', 'SPY Kobbe', [], 606, 1482]\n",
      "[27.302, 'H2K Febiven', 'SPY Mikyx', ['SPY Trashy'], 829, 510]\n"
     ]
    },
    {
     "data": {
      "image/png": "[encoded data removed]",
      "text/plain": [
       "<matplotlib.figure.Figure at 0x1c7804c67b8>"
      ]
     },
     "metadata": {},
     "output_type": "display_data"
    }
   ],
   "source": [
    "time = [0]\n",
    "density = [0]\n",
    "assist_graph = nx.DiGraph()\n",
    "positions = [(1,0),(0,2),(2,4),(3,0),(4,2)]\n",
    "i = 1\n",
    "nodes = 0\n",
    "\n",
    "# 0 (TSM vs C9) y 1701 (H2K vs SPY)\n",
    "\n",
    "for kill in match_data.iloc[1701]['bKills']:\n",
    "    \n",
    "    print(kill)\n",
    "    # add time point\n",
    "    time.append(kill[0])\n",
    "    # add killer\n",
    "    \n",
    "    killer = kill[2]\n",
    "    \n",
    "    if (killer not in assist_graph):\n",
    "        assist_graph.add_node(killer, p = positions[nodes])\n",
    "        nodes = nodes + 1\n",
    "    \n",
    "    for assistant in kill[3]:\n",
    "        \n",
    "        if (assistant not in assist_graph):\n",
    "            assist_graph.add_node(assistant, p = positions[nodes])\n",
    "            nodes = nodes + 1\n",
    "            \n",
    "        if assist_graph.has_edge(assistant,killer):\n",
    "            assist_graph[assistant][killer]['weight'] += 1 \n",
    "        else:\n",
    "            assist_graph.add_edge(assistant, killer, weight = 1)\n",
    "    \n",
    "    # plt.figure(i)\n",
    "    pos = nx.get_node_attributes(assist_graph,'p')\n",
    "    nx.draw(assist_graph, pos = pos)\n",
    "    plt.savefig(str(i) + '.png', bbox_inches='tight')\n",
    "    \n",
    "    density.append(nx.density(assist_graph))\n",
    "    \n",
    "    i = i + 1\n",
    "    "
   ]
  },
  {
   "cell_type": "code",
   "execution_count": 66,
   "metadata": {},
   "outputs": [
    {
     "data": {
      "text/plain": [
       "[<matplotlib.lines.Line2D at 0x1c78111d7f0>]"
      ]
     },
     "execution_count": 66,
     "metadata": {},
     "output_type": "execute_result"
    },
    {
     "data": {
      "image/png": "[encoded data removed]",
      "text/plain": [
       "<matplotlib.figure.Figure at 0x1c780ea8eb8>"
      ]
     },
     "metadata": {},
     "output_type": "display_data"
    }
   ],
   "source": [
    "plt.plot(time, density)"
   ]
  },
  {
   "cell_type": "code",
   "execution_count": 74,
   "metadata": {},
   "outputs": [
    {
     "data": {
      "text/plain": [
       "DiDegreeView({'Crew HanShao ': 3, 'Crew HanJi ': 4, 'Crew LeeMid ': 4, 'Crew HoNeyRain ': 2, 'Crew ThreshMelon': 1})"
      ]
     },
     "execution_count": 74,
     "metadata": {},
     "output_type": "execute_result"
    }
   ],
   "source": [
    "nx.degree(assist_graph)"
   ]
  },
  {
   "cell_type": "code",
   "execution_count": 81,
   "metadata": {},
   "outputs": [
    {
     "data": {
      "text/plain": [
       "InDegreeView({'TSM Bjergsen': 4, 'TSM WildTurtle': 4, 'TSM Santorin': 3, 'TSM Lustboy': 0, 'TSM Dyrus': 4})"
      ]
     },
     "execution_count": 81,
     "metadata": {},
     "output_type": "execute_result"
    }
   ],
   "source": [
    "assist_graph.in_degree()"
   ]
  },
  {
   "cell_type": "code",
   "execution_count": 79,
   "metadata": {},
   "outputs": [
    {
     "data": {
      "text/plain": [
       "[12, 12, 1, 8, 7]"
      ]
     },
     "execution_count": 79,
     "metadata": {},
     "output_type": "execute_result"
    }
   ],
   "source": [
    "indegree =[]\n",
    "for u, v in list(assist_graph.in_degree(weight = 'weight')):\n",
    "        indegree.append(v)\n",
    "indegree"
   ]
  },
  {
   "cell_type": "code",
   "execution_count": 82,
   "metadata": {},
   "outputs": [
    {
     "data": {
      "text/plain": [
       "InDegreeView({'TSM Bjergsen': 26, 'TSM WildTurtle': 18, 'TSM Santorin': 3, 'TSM Lustboy': 0, 'TSM Dyrus': 7})"
      ]
     },
     "execution_count": 82,
     "metadata": {},
     "output_type": "execute_result"
    }
   ],
   "source": [
    "assist_graph.in_degree(weight = 'weight')"
   ]
  },
  {
   "cell_type": "code",
   "execution_count": 61,
   "metadata": {},
   "outputs": [
    {
     "data": {
      "text/plain": [
       "OutDegreeView({'CLG Doublelift': 6, 'CLG Xmithie': 15, 'CLG aphromoo': 20, 'CLG Benny': 14, 'CLG Link': 10})"
      ]
     },
     "execution_count": 61,
     "metadata": {},
     "output_type": "execute_result"
    }
   ],
   "source": [
    "assist_graph.out_degree(weight = 'weight')"
   ]
  },
  {
   "cell_type": "code",
   "execution_count": 54,
   "metadata": {},
   "outputs": [
    {
     "data": {
      "text/plain": [
       "OutEdgeView([('TSM Bjergsen', 'TSM WildTurtle'), ('TSM Bjergsen', 'TSM Dyrus'), ('TSM Bjergsen', 'TSM Santorin'), ('TSM Bjergsen', 'TSM Lustboy'), ('TSM WildTurtle', 'TSM Bjergsen'), ('TSM WildTurtle', 'TSM Dyrus'), ('TSM WildTurtle', 'TSM Santorin'), ('TSM WildTurtle', 'TSM Lustboy'), ('TSM Santorin', 'TSM WildTurtle'), ('TSM Santorin', 'TSM Bjergsen'), ('TSM Santorin', 'TSM Dyrus'), ('TSM Santorin', 'TSM Lustboy'), ('TSM Lustboy', 'TSM WildTurtle'), ('TSM Lustboy', 'TSM Bjergsen'), ('TSM Lustboy', 'TSM Dyrus'), ('TSM Lustboy', 'TSM Santorin'), ('TSM Dyrus', 'TSM Bjergsen'), ('TSM Dyrus', 'TSM WildTurtle'), ('TSM Dyrus', 'TSM Santorin'), ('TSM Dyrus', 'TSM Lustboy')])"
      ]
     },
     "execution_count": 54,
     "metadata": {},
     "output_type": "execute_result"
    }
   ],
   "source": [
    "assist_graph.edges()"
   ]
  },
  {
   "cell_type": "code",
   "execution_count": 53,
   "metadata": {},
   "outputs": [],
   "source": [
    "assist_graph.add_edges_from(nx.non_edges(assist_graph), weight = 0)"
   ]
  },
  {
   "cell_type": "code",
   "execution_count": 62,
   "metadata": {},
   "outputs": [
    {
     "name": "stdout",
     "output_type": "stream",
     "text": [
      "[22, 9, 3, 5, 26]\n",
      "65\n",
      "26\n",
      "[6, 15, 20, 14, 10]\n",
      "65\n",
      "20\n",
      "0.25\n",
      "0.38461538461538464\n"
     ]
    }
   ],
   "source": [
    "indegree = []\n",
    "outdegree = []\n",
    "for u, v in list(assist_graph.in_degree(weight = 'weight')):\n",
    "    indegree.append(v)\n",
    "print(indegree)\n",
    "print(sum(indegree))\n",
    "print(max(indegree))\n",
    "\n",
    "for u, v in list(assist_graph.out_degree(weight = 'weight')):\n",
    "    outdegree.append(v)\n",
    "print(outdegree)\n",
    "print(sum(outdegree))\n",
    "print(max(outdegree))\n",
    "\n",
    "total = 0\n",
    "for n in indegree:\n",
    "    total = total + (max(indegree) - n)\n",
    "print(total/4/sum(indegree))\n",
    "\n",
    "for n in outdegree:\n",
    "    total = total + (max(outdegree) - n)\n",
    "print(total/4/sum(outdegree))\n",
    "    "
   ]
  },
  {
   "cell_type": "code",
   "execution_count": 63,
   "metadata": {},
   "outputs": [
    {
     "name": "stdout",
     "output_type": "stream",
     "text": [
      "[1, 1, 4, 5, 8, 2, 7, 3, 8, 2, 2, 5, 1, 6, 3, 5, 1, 1]\n",
      "65\n",
      "0.06396761133603239\n"
     ]
    }
   ],
   "source": [
    "weight_list = []\n",
    "for u,v,w in list(assist_graph.edges(data = True)):\n",
    "    weight_list.append(list(w.values())[0])\n",
    "print(weight_list)\n",
    "\n",
    "cw = 0\n",
    "max_w = max(weight_list)\n",
    "for n in weight_list:\n",
    "    cw = cw + (max_w - n)\n",
    "\n",
    "print(sum(weight_list))\n",
    "print(cw/19/sum(weight_list))"
   ]
  },
  {
   "cell_type": "code",
   "execution_count": 84,
   "metadata": {},
   "outputs": [
    {
     "ename": "KeyError",
     "evalue": "<class 'tuple'>",
     "output_type": "error",
     "traceback": [
      "\u001b[1;31m---------------------------------------------------------------------------\u001b[0m",
      "\u001b[1;31mKeyError\u001b[0m                                  Traceback (most recent call last)",
      "\u001b[1;32m<ipython-input-84-b10c03d8dce8>\u001b[0m in \u001b[0;36m<module>\u001b[1;34m()\u001b[0m\n\u001b[1;32m----> 1\u001b[1;33m \u001b[0mnx\u001b[0m\u001b[1;33m.\u001b[0m\u001b[0mwrite_graphml\u001b[0m\u001b[1;33m(\u001b[0m\u001b[0massist_graph\u001b[0m\u001b[1;33m,\u001b[0m \u001b[1;34m\"test_tsm.graphml\"\u001b[0m\u001b[1;33m)\u001b[0m\u001b[1;33m\u001b[0m\u001b[0m\n\u001b[0m",
      "\u001b[1;32m<decorator-gen-565>\u001b[0m in \u001b[0;36mwrite_graphml_lxml\u001b[1;34m(G, path, encoding, prettyprint, infer_numeric_types)\u001b[0m\n",
      "\u001b[1;32mC:\\ProgramData\\Anaconda\\envs\\py36\\lib\\site-packages\\networkx\\utils\\decorators.py\u001b[0m in \u001b[0;36m_open_file\u001b[1;34m(func_to_be_decorated, *args, **kwargs)\u001b[0m\n\u001b[0;32m    225\u001b[0m         \u001b[1;31m# Finally, we call the original function, making sure to close the fobj\u001b[0m\u001b[1;33m\u001b[0m\u001b[1;33m\u001b[0m\u001b[0m\n\u001b[0;32m    226\u001b[0m         \u001b[1;32mtry\u001b[0m\u001b[1;33m:\u001b[0m\u001b[1;33m\u001b[0m\u001b[0m\n\u001b[1;32m--> 227\u001b[1;33m             \u001b[0mresult\u001b[0m \u001b[1;33m=\u001b[0m \u001b[0mfunc_to_be_decorated\u001b[0m\u001b[1;33m(\u001b[0m\u001b[1;33m*\u001b[0m\u001b[0mnew_args\u001b[0m\u001b[1;33m,\u001b[0m \u001b[1;33m**\u001b[0m\u001b[0mkwargs\u001b[0m\u001b[1;33m)\u001b[0m\u001b[1;33m\u001b[0m\u001b[0m\n\u001b[0m\u001b[0;32m    228\u001b[0m         \u001b[1;32mfinally\u001b[0m\u001b[1;33m:\u001b[0m\u001b[1;33m\u001b[0m\u001b[0m\n\u001b[0;32m    229\u001b[0m             \u001b[1;32mif\u001b[0m \u001b[0mclose_fobj\u001b[0m\u001b[1;33m:\u001b[0m\u001b[1;33m\u001b[0m\u001b[0m\n",
      "\u001b[1;32mC:\\ProgramData\\Anaconda\\envs\\py36\\lib\\site-packages\\networkx\\readwrite\\graphml.py\u001b[0m in \u001b[0;36mwrite_graphml_lxml\u001b[1;34m(G, path, encoding, prettyprint, infer_numeric_types)\u001b[0m\n\u001b[0;32m    147\u001b[0m     writer = GraphMLWriterLxml(path, graph=G, encoding=encoding,\n\u001b[0;32m    148\u001b[0m                                \u001b[0mprettyprint\u001b[0m\u001b[1;33m=\u001b[0m\u001b[0mprettyprint\u001b[0m\u001b[1;33m,\u001b[0m\u001b[1;33m\u001b[0m\u001b[0m\n\u001b[1;32m--> 149\u001b[1;33m                                infer_numeric_types=infer_numeric_types)\n\u001b[0m\u001b[0;32m    150\u001b[0m     \u001b[0mwriter\u001b[0m\u001b[1;33m.\u001b[0m\u001b[0mdump\u001b[0m\u001b[1;33m(\u001b[0m\u001b[1;33m)\u001b[0m\u001b[1;33m\u001b[0m\u001b[0m\n\u001b[0;32m    151\u001b[0m \u001b[1;33m\u001b[0m\u001b[0m\n",
      "\u001b[1;32mC:\\ProgramData\\Anaconda\\envs\\py36\\lib\\site-packages\\networkx\\readwrite\\graphml.py\u001b[0m in \u001b[0;36m__init__\u001b[1;34m(self, path, graph, encoding, prettyprint, infer_numeric_types)\u001b[0m\n\u001b[0;32m    594\u001b[0m \u001b[1;33m\u001b[0m\u001b[0m\n\u001b[0;32m    595\u001b[0m         \u001b[1;32mif\u001b[0m \u001b[0mgraph\u001b[0m \u001b[1;32mis\u001b[0m \u001b[1;32mnot\u001b[0m \u001b[1;32mNone\u001b[0m\u001b[1;33m:\u001b[0m\u001b[1;33m\u001b[0m\u001b[0m\n\u001b[1;32m--> 596\u001b[1;33m             \u001b[0mself\u001b[0m\u001b[1;33m.\u001b[0m\u001b[0madd_graph_element\u001b[0m\u001b[1;33m(\u001b[0m\u001b[0mgraph\u001b[0m\u001b[1;33m)\u001b[0m\u001b[1;33m\u001b[0m\u001b[0m\n\u001b[0m\u001b[0;32m    597\u001b[0m \u001b[1;33m\u001b[0m\u001b[0m\n\u001b[0;32m    598\u001b[0m     \u001b[1;32mdef\u001b[0m \u001b[0madd_graph_element\u001b[0m\u001b[1;33m(\u001b[0m\u001b[0mself\u001b[0m\u001b[1;33m,\u001b[0m \u001b[0mG\u001b[0m\u001b[1;33m)\u001b[0m\u001b[1;33m:\u001b[0m\u001b[1;33m\u001b[0m\u001b[0m\n",
      "\u001b[1;32mC:\\ProgramData\\Anaconda\\envs\\py36\\lib\\site-packages\\networkx\\readwrite\\graphml.py\u001b[0m in \u001b[0;36madd_graph_element\u001b[1;34m(self, G)\u001b[0m\n\u001b[0;32m    635\u001b[0m                     \u001b[0mattributes\u001b[0m\u001b[1;33m[\u001b[0m\u001b[0mk\u001b[0m\u001b[1;33m]\u001b[0m \u001b[1;33m=\u001b[0m \u001b[0mv\u001b[0m\u001b[1;33m\u001b[0m\u001b[0m\n\u001b[0;32m    636\u001b[0m         \u001b[1;32mfor\u001b[0m \u001b[0mk\u001b[0m\u001b[1;33m,\u001b[0m \u001b[0mv\u001b[0m \u001b[1;32min\u001b[0m \u001b[0mattributes\u001b[0m\u001b[1;33m.\u001b[0m\u001b[0mitems\u001b[0m\u001b[1;33m(\u001b[0m\u001b[1;33m)\u001b[0m\u001b[1;33m:\u001b[0m\u001b[1;33m\u001b[0m\u001b[0m\n\u001b[1;32m--> 637\u001b[1;33m             \u001b[0mT\u001b[0m \u001b[1;33m=\u001b[0m \u001b[0mself\u001b[0m\u001b[1;33m.\u001b[0m\u001b[0mxml_type\u001b[0m\u001b[1;33m[\u001b[0m\u001b[0mself\u001b[0m\u001b[1;33m.\u001b[0m\u001b[0mattr_type\u001b[0m\u001b[1;33m(\u001b[0m\u001b[0mk\u001b[0m\u001b[1;33m,\u001b[0m \u001b[1;34m\"node\"\u001b[0m\u001b[1;33m,\u001b[0m \u001b[0mv\u001b[0m\u001b[1;33m)\u001b[0m\u001b[1;33m]\u001b[0m\u001b[1;33m\u001b[0m\u001b[0m\n\u001b[0m\u001b[0;32m    638\u001b[0m             \u001b[0mself\u001b[0m\u001b[1;33m.\u001b[0m\u001b[0mget_key\u001b[0m\u001b[1;33m(\u001b[0m\u001b[0mmake_str\u001b[0m\u001b[1;33m(\u001b[0m\u001b[0mk\u001b[0m\u001b[1;33m)\u001b[0m\u001b[1;33m,\u001b[0m \u001b[0mT\u001b[0m\u001b[1;33m,\u001b[0m \u001b[1;34m\"node\"\u001b[0m\u001b[1;33m,\u001b[0m \u001b[0mnode_default\u001b[0m\u001b[1;33m.\u001b[0m\u001b[0mget\u001b[0m\u001b[1;33m(\u001b[0m\u001b[0mk\u001b[0m\u001b[1;33m)\u001b[0m\u001b[1;33m)\u001b[0m\u001b[1;33m\u001b[0m\u001b[0m\n\u001b[0;32m    639\u001b[0m         \u001b[1;31m# Edges and data\u001b[0m\u001b[1;33m\u001b[0m\u001b[1;33m\u001b[0m\u001b[0m\n",
      "\u001b[1;31mKeyError\u001b[0m: <class 'tuple'>"
     ]
    }
   ],
   "source": [
    "nx.write_graphml(assist_graph, \"test_tsm.graphml\")"
   ]
  },
  {
   "cell_type": "markdown",
   "metadata": {},
   "source": [
    "## A ver el rojo"
   ]
  },
  {
   "cell_type": "code",
   "execution_count": 110,
   "metadata": {},
   "outputs": [
    {
     "name": "stdout",
     "output_type": "stream",
     "text": [
      "[4.026, 'SPY Wunder', 'H2K Jankos', ['H2K Odoamne'], 1554, 10978]\n",
      "[6.669, 'SPY Sencux', 'H2K Febiven', ['H2K Jankos'], 6809, 7475]\n",
      "[7.802, 'SPY Sencux', 'H2K Jankos', [], 6571, 7773]\n",
      "[8.206, 'SPY Wunder', 'H2K Jankos', ['H2K Odoamne', 'H2K Febiven'], 3768, 9889]\n",
      "[16.627, 'SPY Sencux', 'H2K Jankos', [], 7297, 1421]\n",
      "[16.686, 'SPY Trashy', 'H2K Febiven', ['H2K Nuclear', 'H2K Chei'], 7931, 1539]\n",
      "[18.492, 'SPY Trashy', 'H2K Nuclear', ['H2K Odoamne', 'H2K Jankos', 'H2K Chei'], 8356, 7501]\n",
      "[18.645, 'SPY Sencux', 'H2K Nuclear', ['H2K Odoamne', 'H2K Jankos'], 8094, 7501]\n",
      "[18.745, 'SPY Mikyx', 'H2K Chei', ['H2K Nuclear'], 6243, 4739]\n",
      "[18.793, 'SPY Wunder', 'H2K Febiven', ['H2K Nuclear', 'H2K Chei'], 7483, 4904]\n",
      "[20.71, 'SPY Mikyx', 'H2K Jankos', [], 2846, 12630]\n",
      "[20.78, 'SPY Wunder', 'H2K Nuclear', ['H2K Odoamne', 'H2K Chei'], 4297, 11705]\n",
      "[20.816, 'SPY Trashy', 'H2K Febiven', ['H2K Odoamne', 'H2K Nuclear', 'H2K Chei'], 1300, 12675]\n",
      "[20.879, 'SPY Kobbe', 'H2K Febiven', ['H2K Jankos', 'H2K Nuclear', 'H2K Chei'], 2415, 13545]\n",
      "[23.429, 'SPY Mikyx', 'H2K Odoamne', ['H2K Jankos', 'H2K Chei'], 6981, 6377]\n",
      "[24.171, 'SPY Wunder', 'H2K Nuclear', ['H2K Odoamne', 'H2K Febiven', 'H2K Chei'], 4872, 5726]\n",
      "[24.217, 'SPY Sencux', 'H2K Nuclear', ['H2K Jankos', 'H2K Chei'], 6065, 6210]\n",
      "[24.266, 'SPY Trashy', 'H2K Jankos', ['H2K Odoamne', 'H2K Nuclear', 'H2K Chei'], 6000, 6582]\n",
      "[24.299, 'SPY Kobbe', 'H2K Jankos', ['H2K Nuclear', 'H2K Chei'], 7146, 6621]\n",
      "[26.282, 'SPY Mikyx', 'H2K Jankos', ['H2K Febiven', 'H2K Chei'], 5019, 2552]\n",
      "[26.559, 'SPY Wunder', 'H2K Odoamne', [], 2934, 11098]\n",
      "[26.953, 'SPY Sencux', 'H2K Odoamne', ['H2K Febiven', 'H2K Nuclear'], 2702, 1295]\n"
     ]
    }
   ],
   "source": [
    "time = [0]\n",
    "density = [0]\n",
    "assist_graph = nx.DiGraph()\n",
    "positions = [(1,0),(0,2),(2,4),(3,0),(4,2)]\n",
    "i = 1\n",
    "nodes = 0\n",
    "pos = {}\n",
    "\n",
    "for kill in match_data.iloc[1701]['rKills']:\n",
    "    \n",
    "    print(kill)\n",
    "    # add time point\n",
    "    time.append(kill[0])\n",
    "    # add killer\n",
    "    \n",
    "    killer = kill[2]\n",
    "    \n",
    "    if (killer not in assist_graph):\n",
    "        assist_graph.add_node(killer)\n",
    "        pos[killer] = positions[nodes]\n",
    "        nodes = nodes + 1\n",
    "    \n",
    "    for assistant in kill[3]:\n",
    "        \n",
    "        if (assistant not in assist_graph):\n",
    "            assist_graph.add_node(assistant)\n",
    "            pos[assistant] = positions[nodes]\n",
    "            nodes = nodes + 1\n",
    "            \n",
    "        if assist_graph.has_edge(assistant,killer):\n",
    "            assist_graph[assistant][killer]['weight'] += 1 \n",
    "        else:\n",
    "            assist_graph.add_edge(assistant, killer, weight = 1)\n",
    "    \n",
    "    # plt.figure(i)\n",
    "   # nx.draw(assist_graph, pos = pos)\n",
    "   # plt.savefig(str(i) + '.png', bbox_inches='tight')\n",
    "    \n",
    "    density.append(nx.density(assist_graph))\n",
    "    \n",
    "    i = i + 1\n",
    "    "
   ]
  },
  {
   "cell_type": "code",
   "execution_count": 79,
   "metadata": {},
   "outputs": [
    {
     "data": {
      "text/plain": [
       "[<matplotlib.lines.Line2D at 0x161114eec18>]"
      ]
     },
     "execution_count": 79,
     "metadata": {},
     "output_type": "execute_result"
    },
    {
     "data": {
      "image/png": "[encoded data removed]",
      "text/plain": [
       "<matplotlib.figure.Figure at 0x161113a7128>"
      ]
     },
     "metadata": {},
     "output_type": "display_data"
    }
   ],
   "source": [
    "plt.plot(time, density)"
   ]
  },
  {
   "cell_type": "code",
   "execution_count": 101,
   "metadata": {},
   "outputs": [
    {
     "name": "stdout",
     "output_type": "stream",
     "text": [
      "[('C9 Balls', 6), ('C9 Meteos', 6), ('C9 Hai', 7), ('C9 Sneaky', 7), ('C9 LemonNation', 2)]\n",
      "[('C9 Balls', 10), ('C9 Meteos', 9), ('C9 Hai', 9), ('C9 Sneaky', 21), ('C9 LemonNation', 7)]\n",
      "[('C9 Balls', 3), ('C9 Meteos', 3), ('C9 Hai', 4), ('C9 Sneaky', 18), ('C9 LemonNation', 0)]\n",
      "[('C9 Balls', 7), ('C9 Meteos', 6), ('C9 Hai', 5), ('C9 Sneaky', 3), ('C9 LemonNation', 7)]\n"
     ]
    }
   ],
   "source": [
    "print(nx.degree(assist_graph))\n",
    "print(nx.degree(assist_graph, weight = 'weight'))\n",
    "print(assist_graph.in_degree(weight = 'weight'))\n",
    "print(assist_graph.out_degree(weight = 'weight'))\n"
   ]
  },
  {
   "cell_type": "code",
   "execution_count": 92,
   "metadata": {},
   "outputs": [],
   "source": [
    "nx.write_graphml(assist_graph, \"test_h2k.graphml\")"
   ]
  },
  {
   "cell_type": "code",
   "execution_count": 88,
   "metadata": {},
   "outputs": [
    {
     "name": "stdout",
     "output_type": "stream",
     "text": [
      "Bjergsen\n",
      "MID\n",
      "WildTurtle\n",
      "ADC\n",
      "Bjergsen\n",
      "MID\n",
      "Dyrus\n",
      "TOP\n",
      "Bjergsen\n",
      "MID\n",
      "Dyrus\n",
      "TOP\n",
      "WildTurtle\n",
      "ADC\n",
      "Bjergsen\n",
      "MID\n",
      "Bjergsen\n",
      "MID\n",
      "WildTurtle\n",
      "ADC\n",
      "Santorin\n",
      "JUNGLE\n",
      "Bjergsen\n",
      "MID\n",
      "Bjergsen\n",
      "MID\n",
      "Bjergsen\n",
      "MID\n",
      "WildTurtle\n",
      "ADC\n",
      "WildTurtle\n",
      "ADC\n"
     ]
    }
   ],
   "source": [
    "for kill in match_data.iloc[0]['bKills']:\n",
    "    killer_name = kill[2].split()[1]\n",
    "    print(killer_name)\n",
    "    if killer_name in match_data.iloc[0]['blueMiddle']:\n",
    "        print ('MID')\n",
    "    if killer_name in match_data.iloc[0]['blueTop']:\n",
    "        print ('TOP')\n",
    "    if killer_name in match_data.iloc[0]['blueADC']:\n",
    "        print ('ADC')\n",
    "    if killer_name in match_data.iloc[0]['blueJungle']:\n",
    "        print ('JUNGLE')\n",
    "    if killer_name in match_data.iloc[0]['blueSupport']:\n",
    "        print ('SUPPORT')"
   ]
  },
  {
   "cell_type": "code",
   "execution_count": 111,
   "metadata": {},
   "outputs": [],
   "source": [
    "A = nx.to_numpy_matrix(assist_graph)"
   ]
  },
  {
   "cell_type": "code",
   "execution_count": 112,
   "metadata": {},
   "outputs": [
    {
     "data": {
      "text/plain": [
       "matrix([[ 0.,  1.,  2.,  3.,  0.],\n",
       "        [ 3.,  0.,  1.,  4.,  0.],\n",
       "        [ 2.,  1.,  0.,  1.,  0.],\n",
       "        [ 2.,  1.,  4.,  0.,  1.],\n",
       "        [ 3.,  1.,  4.,  4.,  0.]])"
      ]
     },
     "execution_count": 112,
     "metadata": {},
     "output_type": "execute_result"
    }
   ],
   "source": [
    "A"
   ]
  },
  {
   "cell_type": "code",
   "execution_count": 113,
   "metadata": {},
   "outputs": [
    {
     "data": {
      "text/plain": [
       "OutEdgeDataView([('H2K Jankos', 'H2K Febiven', {'weight': 2}), ('H2K Jankos', 'H2K Nuclear', {'weight': 3}), ('H2K Jankos', 'H2K Odoamne', {'weight': 1}), ('H2K Odoamne', 'H2K Jankos', {'weight': 3}), ('H2K Odoamne', 'H2K Nuclear', {'weight': 4}), ('H2K Odoamne', 'H2K Febiven', {'weight': 1}), ('H2K Febiven', 'H2K Jankos', {'weight': 2}), ('H2K Febiven', 'H2K Nuclear', {'weight': 1}), ('H2K Febiven', 'H2K Odoamne', {'weight': 1}), ('H2K Nuclear', 'H2K Febiven', {'weight': 4}), ('H2K Nuclear', 'H2K Chei', {'weight': 1}), ('H2K Nuclear', 'H2K Jankos', {'weight': 2}), ('H2K Nuclear', 'H2K Odoamne', {'weight': 1}), ('H2K Chei', 'H2K Febiven', {'weight': 4}), ('H2K Chei', 'H2K Nuclear', {'weight': 4}), ('H2K Chei', 'H2K Odoamne', {'weight': 1}), ('H2K Chei', 'H2K Jankos', {'weight': 3})])"
      ]
     },
     "execution_count": 113,
     "metadata": {},
     "output_type": "execute_result"
    }
   ],
   "source": [
    "assist_graph.edges(data=True)"
   ]
  },
  {
   "cell_type": "code",
   "execution_count": null,
   "metadata": {},
   "outputs": [],
   "source": []
  }
 ],
 "metadata": {
  "kernelspec": {
   "display_name": "Python 3",
   "language": "python",
   "name": "python3"
  },
  "language_info": {
   "codemirror_mode": {
    "name": "ipython",
    "version": 3
   },
   "file_extension": ".py",
   "mimetype": "text/x-python",
   "name": "python",
   "nbconvert_exporter": "python",
   "pygments_lexer": "ipython3",
   "version": "3.7.2"
  }
 },
 "nbformat": 4,
 "nbformat_minor": 2
}
