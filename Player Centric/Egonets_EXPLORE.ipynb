{
 "cells": [
  {
   "cell_type": "code",
   "execution_count": 113,
   "metadata": {},
   "outputs": [
    {
     "name": "stderr",
     "output_type": "stream",
     "text": [
      "C:\\ProgramData\\Anaconda\\envs\\py36\\lib\\site-packages\\ipykernel_launcher.py:22: FutureWarning: the 'parse_cols' keyword is deprecated, use 'usecols' instead\n",
      "C:\\ProgramData\\Anaconda\\envs\\py36\\lib\\site-packages\\pandas\\util\\_decorators.py:118: FutureWarning: The `sheetname` keyword is deprecated, use `sheet_name` instead\n",
      "  return func(*args, **kwargs)\n"
     ]
    },
    {
     "data": {
      "text/plain": [
       "439"
      ]
     },
     "execution_count": 113,
     "metadata": {},
     "output_type": "execute_result"
    }
   ],
   "source": [
    "import json\n",
    "import requests as rq\n",
    "import pandas as pd\n",
    "import numpy as np\n",
    "import time\n",
    "import itertools\n",
    "import networkx as nx\n",
    "from networkx.algorithms import bipartite\n",
    "import matplotlib.pyplot as plt\n",
    "G=nx.Graph()\n",
    "import pymongo\n",
    "from pymongo import MongoClient\n",
    "client = MongoClient()\n",
    "db = client.lol_match_db\n",
    "collection = db.match_list_2016_5x5\n",
    "\n",
    "list_summoners = pd.read_excel('LVPSummoner.xlsx',\n",
    "                      sheetname = 'table_output',\n",
    "                      header = 0,\n",
    "                      index_col = 0,\n",
    "                      parse_cols = \"A\",\n",
    "                      convert_float = True)\n",
    "len(list_summoners)"
   ]
  },
  {
   "cell_type": "code",
   "execution_count": 114,
   "metadata": {},
   "outputs": [],
   "source": [
    "list_properties = []\n",
    "\n",
    "ego_edge_weights = {}\n",
    "#la idea de este es luego ordenarlo y acumularlo para graficarlo.\n",
    "#for s in range(5):\n",
    "    \n",
    "for s in range(len(list_summoners)):\n",
    "    summoner = db.match_list_2016_5x5.find({\"_id\": str(list_summoners.index[s])})\n",
    "    for document in summoner:\n",
    "        \n",
    "        #añadimos al EGO y lo marcamos\n",
    "        total_partidas = len(document['matches']['matches'])\n",
    "        H=nx.Graph(total_matches = total_partidas, ego_id = str(list_summoners.index[s]))\n",
    "        H.add_node(str(list_summoners.index[s]), ego = 1)\n",
    "        \n",
    "        #repaso todas las partidas de un summoner\n",
    "        \n",
    "        for match in document['matches']['matches']:\n",
    "                        \n",
    "            partida = db.match_details_2016.find({\"_id\": str(match['matchId'])})       \n",
    "            \n",
    "            for document2 in partida:\n",
    "                #el primer equipo, el 100, tiene los jugadores de 0 a 4. El otro de 5 a 9.\n",
    "                firstTeamWin = document2['match_detail']['teams'][0]['winner']\n",
    "                for participant in document2['match_detail']['participantIdentities']:\n",
    "                    if str(participant['player']['summonerId']) == str(list_summoners.index[s]):\n",
    "                        if (participant['participantId'] <= 5 and firstTeamWin):\n",
    "\n",
    "                            team = document2['match_detail']['participantIdentities'][0:5]\n",
    "                            for a, b in itertools.combinations(team, 2):                        \n",
    "\n",
    "                                if H.has_edge(str(a['player']['summonerId']), \n",
    "                                              str(b['player']['summonerId'])):\n",
    "                                    # we added this one before, just increase the weight by one\n",
    "                                    H[str(a['player']['summonerId'])][str(b['player']['summonerId'])]['weight'] += 1.0/total_partidas\n",
    "                                    H[str(a['player']['summonerId'])][str(b['player']['summonerId'])]['matches_together'] += 1\n",
    "                                    H[str(a['player']['summonerId'])][str(b['player']['summonerId'])]['win']+= 1.0/total_partidas\n",
    "\n",
    "                                else:\n",
    "                                    # new edge. add with weight=1\n",
    "                                    H.add_edge(str(a['player']['summonerId']), \n",
    "                                               str(b['player']['summonerId']), \n",
    "                                              weight= 1.0/total_partidas,\n",
    "                                                matches_together = 1,\n",
    "                                                win= 1.0/total_partidas)\n",
    "\n",
    "                        elif (participant['participantId'] <= 5 and not(firstTeamWin)):\n",
    "\n",
    "                            team = document2['match_detail']['participantIdentities'][0:5]\n",
    "                            for a, b in itertools.combinations(team, 2):                        \n",
    "\n",
    "                                if H.has_edge(str(a['player']['summonerId']), \n",
    "                                              str(b['player']['summonerId'])):\n",
    "                                    # we added this one before, just increase the weight by one\n",
    "                                    H[str(a['player']['summonerId'])][str(b['player']['summonerId'])]['weight'] += 1.0/total_partidas\n",
    "                                    H[str(a['player']['summonerId'])][str(b['player']['summonerId'])]['matches_together'] += 1\n",
    "\n",
    "                                else:\n",
    "                                    # new edge. add with weight=1\n",
    "                                    H.add_edge(str(a['player']['summonerId']), \n",
    "                                               str(b['player']['summonerId']), \n",
    "                                               weight= 1.0/total_partidas,\n",
    "                                                matches_together = 1,\n",
    "                                                win=0.0)\n",
    "\n",
    "                        elif (participant['participantId'] > 5 and not(firstTeamWin)):\n",
    "\n",
    "                            team = document2['match_detail']['participantIdentities'][5:10]\n",
    "                            for a, b in itertools.combinations(team, 2):                        \n",
    "\n",
    "                                if H.has_edge(str(a['player']['summonerId']), \n",
    "                                              str(b['player']['summonerId'])):\n",
    "                                    # we added this one before, just increase the weight by one\n",
    "                                    H[str(a['player']['summonerId'])][str(b['player']['summonerId'])]['weight'] += 1.0/total_partidas\n",
    "                                    H[str(a['player']['summonerId'])][str(b['player']['summonerId'])]['matches_together'] += 1\n",
    "                                    H[str(a['player']['summonerId'])][str(b['player']['summonerId'])]['win']+= 1.0/total_partidas\n",
    "\n",
    "                                else:\n",
    "                                    # new edge. add with weight=1\n",
    "                                    H.add_edge(str(a['player']['summonerId']), \n",
    "                                               str(b['player']['summonerId']), \n",
    "                                               weight= 1.0/total_partidas,\n",
    "                                               matches_together = 1,\n",
    "                                                win=1.0/total_partidas)\n",
    "                        else:\n",
    "\n",
    "                            team = document2['match_detail']['participantIdentities'][5:10]\n",
    "                            for a, b in itertools.combinations(team, 2):                        \n",
    "\n",
    "                                if H.has_edge(str(a['player']['summonerId']), \n",
    "                                              str(b['player']['summonerId'])):\n",
    "                                    # we added this one before, just increase the weight by one\n",
    "                                    H[str(a['player']['summonerId'])][str(b['player']['summonerId'])]['weight'] += 1.0/total_partidas\n",
    "                                    H[str(a['player']['summonerId'])][str(b['player']['summonerId'])]['matches_together'] += 1\n",
    "\n",
    "                                else:\n",
    "                                    # new edge. add with weight=1\n",
    "                                    H.add_edge(str(a['player']['summonerId']), \n",
    "                                               str(b['player']['summonerId']), \n",
    "                                               weight= 1.0/total_partidas,\n",
    "                                                matches_together = 1,\n",
    "                                                win=0.0)\n",
    "                                    \n",
    "    nx.write_graphml(H, \"networks/playerNetwork_\"+ str(list_summoners.index[s]) +\".graphml\")\n",
    "    \n",
    "    egonet_census = nx.triadic_census(nx.to_directed(H))\n",
    "    \n",
    "    weight_array = []\n",
    "    for u,v,a in H.edges(H.graph['ego_id'], data=True):\n",
    "        weight_array.append(a['weight'])\n",
    "    \n",
    "    ego_edge_weights[str(list_summoners.index[s])] = weight_array\n",
    "    \n",
    "    list_properties.append((str(list_summoners.index[s]),\n",
    "                            total_partidas, \n",
    "                            len(list(H.nodes())), \n",
    "                            nx.density(H), \n",
    "                            egonet_census['003'], \n",
    "                            egonet_census['102'], \n",
    "                            egonet_census['201'], \n",
    "                            egonet_census['300'], \n",
    "                            nx.number_of_cliques(H, H.graph['ego_id']), \n",
    "                            nx.node_clique_number(H, H.graph['ego_id']), \n",
    "                            np.average(weight_array)))\n",
    "    \n",
    "    H.clear()\n",
    "    \n",
    "# creo el dataframe\n",
    "labels = ['ego', 'total_matches', 'nodes', 'density', \n",
    "          'triad_003', 'triad_102', 'triad_201', 'triad_300', \n",
    "          'num_maximal_cliques', 'max_clique_size', 'avg_weight']\n",
    "egonet_data = pd.DataFrame.from_records(list_properties, columns=labels)"
   ]
  },
  {
   "cell_type": "code",
   "execution_count": 112,
   "metadata": {},
   "outputs": [
    {
     "data": {
      "text/plain": [
       "{'_id': '35528908',\n",
       " 'matches': {'endIndex': 0, 'startIndex': 0, 'totalGames': 0}}"
      ]
     },
     "execution_count": 112,
     "metadata": {},
     "output_type": "execute_result"
    }
   ],
   "source": [
    "document"
   ]
  },
  {
   "cell_type": "code",
   "execution_count": 115,
   "metadata": {},
   "outputs": [
    {
     "data": {
      "text/html": [
       "<div>\n",
       "<style scoped>\n",
       "    .dataframe tbody tr th:only-of-type {\n",
       "        vertical-align: middle;\n",
       "    }\n",
       "\n",
       "    .dataframe tbody tr th {\n",
       "        vertical-align: top;\n",
       "    }\n",
       "\n",
       "    .dataframe thead th {\n",
       "        text-align: right;\n",
       "    }\n",
       "</style>\n",
       "<table border=\"1\" class=\"dataframe\">\n",
       "  <thead>\n",
       "    <tr style=\"text-align: right;\">\n",
       "      <th></th>\n",
       "      <th>ego</th>\n",
       "      <th>total_matches</th>\n",
       "      <th>nodes</th>\n",
       "      <th>density</th>\n",
       "      <th>triad_003</th>\n",
       "      <th>triad_102</th>\n",
       "      <th>triad_201</th>\n",
       "      <th>triad_300</th>\n",
       "      <th>num_maximal_cliques</th>\n",
       "      <th>max_clique_size</th>\n",
       "      <th>avg_weight</th>\n",
       "    </tr>\n",
       "  </thead>\n",
       "  <tbody>\n",
       "    <tr>\n",
       "      <th>0</th>\n",
       "      <td>19459077</td>\n",
       "      <td>69</td>\n",
       "      <td>18</td>\n",
       "      <td>0.457516</td>\n",
       "      <td>197</td>\n",
       "      <td>245</td>\n",
       "      <td>247</td>\n",
       "      <td>127</td>\n",
       "      <td>10</td>\n",
       "      <td>7</td>\n",
       "      <td>0.235294</td>\n",
       "    </tr>\n",
       "    <tr>\n",
       "      <th>1</th>\n",
       "      <td>20501992</td>\n",
       "      <td>7</td>\n",
       "      <td>22</td>\n",
       "      <td>0.264069</td>\n",
       "      <td>698</td>\n",
       "      <td>532</td>\n",
       "      <td>242</td>\n",
       "      <td>68</td>\n",
       "      <td>7</td>\n",
       "      <td>5</td>\n",
       "      <td>0.190476</td>\n",
       "    </tr>\n",
       "    <tr>\n",
       "      <th>2</th>\n",
       "      <td>23407188</td>\n",
       "      <td>206</td>\n",
       "      <td>673</td>\n",
       "      <td>0.008270</td>\n",
       "      <td>49581762</td>\n",
       "      <td>738311</td>\n",
       "      <td>255210</td>\n",
       "      <td>2013</td>\n",
       "      <td>206</td>\n",
       "      <td>5</td>\n",
       "      <td>0.005952</td>\n",
       "    </tr>\n",
       "    <tr>\n",
       "      <th>3</th>\n",
       "      <td>27281117</td>\n",
       "      <td>37</td>\n",
       "      <td>45</td>\n",
       "      <td>0.150505</td>\n",
       "      <td>9831</td>\n",
       "      <td>2508</td>\n",
       "      <td>1654</td>\n",
       "      <td>197</td>\n",
       "      <td>23</td>\n",
       "      <td>6</td>\n",
       "      <td>0.090909</td>\n",
       "    </tr>\n",
       "    <tr>\n",
       "      <th>4</th>\n",
       "      <td>28306135</td>\n",
       "      <td>111</td>\n",
       "      <td>329</td>\n",
       "      <td>0.017625</td>\n",
       "      <td>5633176</td>\n",
       "      <td>186129</td>\n",
       "      <td>60849</td>\n",
       "      <td>1050</td>\n",
       "      <td>108</td>\n",
       "      <td>5</td>\n",
       "      <td>0.012195</td>\n",
       "    </tr>\n",
       "  </tbody>\n",
       "</table>\n",
       "</div>"
      ],
      "text/plain": [
       "        ego  total_matches  nodes   density  triad_003  triad_102  triad_201  \\\n",
       "0  19459077             69     18  0.457516        197        245        247   \n",
       "1  20501992              7     22  0.264069        698        532        242   \n",
       "2  23407188            206    673  0.008270   49581762     738311     255210   \n",
       "3  27281117             37     45  0.150505       9831       2508       1654   \n",
       "4  28306135            111    329  0.017625    5633176     186129      60849   \n",
       "\n",
       "   triad_300  num_maximal_cliques  max_clique_size  avg_weight  \n",
       "0        127                   10                7    0.235294  \n",
       "1         68                    7                5    0.190476  \n",
       "2       2013                  206                5    0.005952  \n",
       "3        197                   23                6    0.090909  \n",
       "4       1050                  108                5    0.012195  "
      ]
     },
     "execution_count": 115,
     "metadata": {},
     "output_type": "execute_result"
    }
   ],
   "source": [
    "egonet_data.head()"
   ]
  },
  {
   "cell_type": "code",
   "execution_count": 116,
   "metadata": {},
   "outputs": [],
   "source": [
    "egonet_data.to_csv('egonets.csv', index=False)"
   ]
  },
  {
   "cell_type": "code",
   "execution_count": 29,
   "metadata": {},
   "outputs": [],
   "source": [
    "H2 = nx.read_graphml(\"playerNetwork_19459077.graphml\")"
   ]
  },
  {
   "cell_type": "code",
   "execution_count": 9,
   "metadata": {},
   "outputs": [
    {
     "data": {
      "text/plain": [
       "NodeDataView({'19459077': {'ego': 1}, '20116736': {}, '28557346': {}, '37859449': {}, '28517552': {}, '37882045': {}, '22344969': {}, '33909732': {}, '20110852': {}, '23214164': {}, '31409116': {}, '19891004': {}, '33571789': {}, '42055706': {}, '25289352': {}, '75357637': {}, '21876725': {}, '43127201': {}})"
      ]
     },
     "execution_count": 9,
     "metadata": {},
     "output_type": "execute_result"
    }
   ],
   "source": [
    "H2.nodes.data()"
   ]
  },
  {
   "cell_type": "code",
   "execution_count": 87,
   "metadata": {},
   "outputs": [
    {
     "ename": "TypeError",
     "evalue": "object of type 'int' has no len()",
     "output_type": "error",
     "traceback": [
      "\u001b[1;31m---------------------------------------------------------------------------\u001b[0m",
      "\u001b[1;31mTypeError\u001b[0m                                 Traceback (most recent call last)",
      "\u001b[1;32m<ipython-input-87-cf612cb7c08f>\u001b[0m in \u001b[0;36m<module>\u001b[1;34m()\u001b[0m\n\u001b[1;32m----> 1\u001b[1;33m \u001b[0mlen\u001b[0m\u001b[1;33m(\u001b[0m\u001b[0mnx\u001b[0m\u001b[1;33m.\u001b[0m\u001b[0mnumber_of_cliques\u001b[0m\u001b[1;33m(\u001b[0m\u001b[0mH2\u001b[0m\u001b[1;33m,\u001b[0m \u001b[1;34m'19459077'\u001b[0m\u001b[1;33m)\u001b[0m\u001b[1;33m)\u001b[0m\u001b[1;33m\u001b[0m\u001b[0m\n\u001b[0m",
      "\u001b[1;31mTypeError\u001b[0m: object of type 'int' has no len()"
     ]
    }
   ],
   "source": [
    "nx.number_of_cliques(H2, '19459077')"
   ]
  },
  {
   "cell_type": "code",
   "execution_count": 88,
   "metadata": {},
   "outputs": [
    {
     "data": {
      "text/plain": [
       "443"
      ]
     },
     "execution_count": 88,
     "metadata": {},
     "output_type": "execute_result"
    }
   ],
   "source": []
  },
  {
   "cell_type": "code",
   "execution_count": 20,
   "metadata": {},
   "outputs": [
    {
     "data": {
      "text/plain": [
       "NodeDataView({'20501992': {'ego': 1}, '61521191': {}, '53037561': {}, '31113043': {}, '35773403': {}, '52662940': {}, '37945613': {}, '52493865': {}, '24658882': {}, '63986793': {}, '22003918': {}, '182419': {}, '40638373': {}, '25914000': {}, '24818653': {}, '21137760': {}, '50766893': {}, '37742947': {}, '44929492': {}, '37158550': {}, '33011554': {}, '52395740': {}})"
      ]
     },
     "execution_count": 20,
     "metadata": {},
     "output_type": "execute_result"
    }
   ],
   "source": [
    "H3 = nx.read_graphml(\"playerNetwork_20501992.graphml\")\n",
    "H3.nodes.data()"
   ]
  },
  {
   "cell_type": "code",
   "execution_count": 16,
   "metadata": {},
   "outputs": [
    {
     "data": {
      "text/plain": [
       "[['20501992', '44929492', '52395740', '37158550', '33011554'],\n",
       " ['20501992', '22003918', '182419', '40638373', '63986793'],\n",
       " ['20501992', '31113043', '53037561', '61521191', '35773403'],\n",
       " ['20501992', '31113043', '53037561', '24658882', '52493865'],\n",
       " ['20501992', '31113043', '53037561', '37945613', '52662940'],\n",
       " ['20501992', '31113043', '37742947', '182419', '50766893'],\n",
       " ['20501992', '25914000', '182419', '24818653', '21137760']]"
      ]
     },
     "execution_count": 16,
     "metadata": {},
     "output_type": "execute_result"
    }
   ],
   "source": [
    "list(nx.find_cliques(H3))"
   ]
  },
  {
   "cell_type": "code",
   "execution_count": 24,
   "metadata": {},
   "outputs": [
    {
     "data": {
      "text/plain": [
       "5.714285714285714"
      ]
     },
     "execution_count": 24,
     "metadata": {},
     "output_type": "execute_result"
    }
   ],
   "source": [
    "#number of cliques busca cliques MAXIMALES así que siempre encontrará el número de equipos distintos que ha formado el jugador\n",
    "nx.triangles(H3, H3.graph['ego_id'])/H3.graph['total_matches']"
   ]
  },
  {
   "cell_type": "code",
   "execution_count": 28,
   "metadata": {},
   "outputs": [
    {
     "data": {
      "text/plain": [
       "[['20501992', '44929492', '52395740', '37158550', '33011554'],\n",
       " ['20501992', '22003918', '182419', '40638373', '63986793'],\n",
       " ['20501992', '31113043', '53037561', '61521191', '35773403'],\n",
       " ['20501992', '31113043', '53037561', '24658882', '52493865'],\n",
       " ['20501992', '31113043', '53037561', '37945613', '52662940'],\n",
       " ['20501992', '31113043', '37742947', '182419', '50766893'],\n",
       " ['20501992', '25914000', '182419', '24818653', '21137760']]"
      ]
     },
     "execution_count": 28,
     "metadata": {},
     "output_type": "execute_result"
    }
   ],
   "source": [
    "nx.cliques_containing_node(H3, H3.graph['ego_id'])"
   ]
  },
  {
   "cell_type": "code",
   "execution_count": 31,
   "metadata": {},
   "outputs": [
    {
     "data": {
      "text/plain": [
       "10"
      ]
     },
     "execution_count": 31,
     "metadata": {},
     "output_type": "execute_result"
    }
   ],
   "source": [
    "nx.number_of_cliques(H2, H2.graph['ego_id'])\n",
    "# son como los \"grupos distintos\" de gente con la que juega, no exactamente los equipos"
   ]
  },
  {
   "cell_type": "code",
   "execution_count": 32,
   "metadata": {},
   "outputs": [
    {
     "data": {
      "text/plain": [
       "7"
      ]
     },
     "execution_count": 32,
     "metadata": {},
     "output_type": "execute_result"
    }
   ],
   "source": [
    "nx.node_clique_number(H2, H2.graph['ego_id'])"
   ]
  },
  {
   "cell_type": "code",
   "execution_count": 33,
   "metadata": {},
   "outputs": [
    {
     "data": {
      "text/plain": [
       "5"
      ]
     },
     "execution_count": 33,
     "metadata": {},
     "output_type": "execute_result"
    }
   ],
   "source": [
    "nx.node_clique_number(H3, H3.graph['ego_id'])"
   ]
  },
  {
   "cell_type": "code",
   "execution_count": 38,
   "metadata": {},
   "outputs": [
    {
     "name": "stdout",
     "output_type": "stream",
     "text": [
      "{'19459077': 7.235294117647059}\n",
      "{'20501992': 4.809523809523809}\n"
     ]
    }
   ],
   "source": [
    "print(nx.average_neighbor_degree(H2, nodes= [H2.graph['ego_id']]))\n",
    "print(nx.average_neighbor_degree(H3, nodes= [H3.graph['ego_id']]))"
   ]
  },
  {
   "cell_type": "code",
   "execution_count": 61,
   "metadata": {},
   "outputs": [
    {
     "name": "stdout",
     "output_type": "stream",
     "text": [
      "0.190476190476\n"
     ]
    }
   ],
   "source": [
    "weight_array = []\n",
    "\n",
    "for u,v,a in H3.edges(H3.graph['ego_id'], data=True):\n",
    "    \n",
    "    weight_array.append(a['weight'])\n",
    "    \n",
    "print(np.average(weight_array))"
   ]
  },
  {
   "cell_type": "code",
   "execution_count": 80,
   "metadata": {},
   "outputs": [
    {
     "name": "stdout",
     "output_type": "stream",
     "text": [
      "127.0\n"
     ]
    }
   ],
   "source": [
    "total = 0\n",
    "for key, value in nx.triangles(H2).items():\n",
    "    total += value\n",
    "\n",
    "print(total/3)"
   ]
  },
  {
   "cell_type": "code",
   "execution_count": 83,
   "metadata": {},
   "outputs": [
    {
     "data": {
      "text/plain": [
       "18"
      ]
     },
     "execution_count": 83,
     "metadata": {},
     "output_type": "execute_result"
    }
   ],
   "source": [
    "len(list(H2.nodes()))"
   ]
  },
  {
   "cell_type": "code",
   "execution_count": 117,
   "metadata": {},
   "outputs": [],
   "source": [
    "test = pd.read_csv('egonets.csv')"
   ]
  },
  {
   "cell_type": "code",
   "execution_count": 118,
   "metadata": {},
   "outputs": [
    {
     "data": {
      "text/html": [
       "<div>\n",
       "<style scoped>\n",
       "    .dataframe tbody tr th:only-of-type {\n",
       "        vertical-align: middle;\n",
       "    }\n",
       "\n",
       "    .dataframe tbody tr th {\n",
       "        vertical-align: top;\n",
       "    }\n",
       "\n",
       "    .dataframe thead th {\n",
       "        text-align: right;\n",
       "    }\n",
       "</style>\n",
       "<table border=\"1\" class=\"dataframe\">\n",
       "  <thead>\n",
       "    <tr style=\"text-align: right;\">\n",
       "      <th></th>\n",
       "      <th>ego</th>\n",
       "      <th>total_matches</th>\n",
       "      <th>nodes</th>\n",
       "      <th>density</th>\n",
       "      <th>triad_003</th>\n",
       "      <th>triad_102</th>\n",
       "      <th>triad_201</th>\n",
       "      <th>triad_300</th>\n",
       "      <th>num_maximal_cliques</th>\n",
       "      <th>max_clique_size</th>\n",
       "      <th>avg_weight</th>\n",
       "    </tr>\n",
       "  </thead>\n",
       "  <tbody>\n",
       "    <tr>\n",
       "      <th>0</th>\n",
       "      <td>19459077</td>\n",
       "      <td>69</td>\n",
       "      <td>18</td>\n",
       "      <td>0.457516</td>\n",
       "      <td>197</td>\n",
       "      <td>245</td>\n",
       "      <td>247</td>\n",
       "      <td>127</td>\n",
       "      <td>10</td>\n",
       "      <td>7</td>\n",
       "      <td>0.235294</td>\n",
       "    </tr>\n",
       "    <tr>\n",
       "      <th>1</th>\n",
       "      <td>20501992</td>\n",
       "      <td>7</td>\n",
       "      <td>22</td>\n",
       "      <td>0.264069</td>\n",
       "      <td>698</td>\n",
       "      <td>532</td>\n",
       "      <td>242</td>\n",
       "      <td>68</td>\n",
       "      <td>7</td>\n",
       "      <td>5</td>\n",
       "      <td>0.190476</td>\n",
       "    </tr>\n",
       "    <tr>\n",
       "      <th>2</th>\n",
       "      <td>23407188</td>\n",
       "      <td>206</td>\n",
       "      <td>673</td>\n",
       "      <td>0.008270</td>\n",
       "      <td>49581762</td>\n",
       "      <td>738311</td>\n",
       "      <td>255210</td>\n",
       "      <td>2013</td>\n",
       "      <td>206</td>\n",
       "      <td>5</td>\n",
       "      <td>0.005952</td>\n",
       "    </tr>\n",
       "    <tr>\n",
       "      <th>3</th>\n",
       "      <td>27281117</td>\n",
       "      <td>37</td>\n",
       "      <td>45</td>\n",
       "      <td>0.150505</td>\n",
       "      <td>9831</td>\n",
       "      <td>2508</td>\n",
       "      <td>1654</td>\n",
       "      <td>197</td>\n",
       "      <td>23</td>\n",
       "      <td>6</td>\n",
       "      <td>0.090909</td>\n",
       "    </tr>\n",
       "    <tr>\n",
       "      <th>4</th>\n",
       "      <td>28306135</td>\n",
       "      <td>111</td>\n",
       "      <td>329</td>\n",
       "      <td>0.017625</td>\n",
       "      <td>5633176</td>\n",
       "      <td>186129</td>\n",
       "      <td>60849</td>\n",
       "      <td>1050</td>\n",
       "      <td>108</td>\n",
       "      <td>5</td>\n",
       "      <td>0.012195</td>\n",
       "    </tr>\n",
       "  </tbody>\n",
       "</table>\n",
       "</div>"
      ],
      "text/plain": [
       "        ego  total_matches  nodes   density  triad_003  triad_102  triad_201  \\\n",
       "0  19459077             69     18  0.457516        197        245        247   \n",
       "1  20501992              7     22  0.264069        698        532        242   \n",
       "2  23407188            206    673  0.008270   49581762     738311     255210   \n",
       "3  27281117             37     45  0.150505       9831       2508       1654   \n",
       "4  28306135            111    329  0.017625    5633176     186129      60849   \n",
       "\n",
       "   triad_300  num_maximal_cliques  max_clique_size  avg_weight  \n",
       "0        127                   10                7    0.235294  \n",
       "1         68                    7                5    0.190476  \n",
       "2       2013                  206                5    0.005952  \n",
       "3        197                   23                6    0.090909  \n",
       "4       1050                  108                5    0.012195  "
      ]
     },
     "execution_count": 118,
     "metadata": {},
     "output_type": "execute_result"
    }
   ],
   "source": [
    "test.head()"
   ]
  },
  {
   "cell_type": "code",
   "execution_count": null,
   "metadata": {},
   "outputs": [],
   "source": []
  }
 ],
 "metadata": {
  "kernelspec": {
   "display_name": "Python 3",
   "language": "python",
   "name": "python3"
  },
  "language_info": {
   "codemirror_mode": {
    "name": "ipython",
    "version": 3
   },
   "file_extension": ".py",
   "mimetype": "text/x-python",
   "name": "python",
   "nbconvert_exporter": "python",
   "pygments_lexer": "ipython3",
   "version": "3.6.3"
  }
 },
 "nbformat": 4,
 "nbformat_minor": 2
}
