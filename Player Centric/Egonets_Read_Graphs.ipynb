{
 "cells": [
  {
   "cell_type": "code",
   "execution_count": 1,
   "metadata": {},
   "outputs": [],
   "source": [
    "import json\n",
    "import requests as rq\n",
    "import pandas as pd\n",
    "import numpy as np\n",
    "import time\n",
    "import itertools\n",
    "import networkx as nx\n",
    "from networkx.algorithms import bipartite\n",
    "import matplotlib.pyplot as plt\n",
    "G=nx.Graph()\n",
    "import pymongo\n",
    "from pymongo import MongoClient\n",
    "import community"
   ]
  },
  {
   "cell_type": "code",
   "execution_count": 217,
   "metadata": {},
   "outputs": [
    {
     "name": "stderr",
     "output_type": "stream",
     "text": [
      "C:\\ProgramData\\Anaconda\\envs\\py36\\lib\\site-packages\\ipykernel_launcher.py:6: FutureWarning: the 'parse_cols' keyword is deprecated, use 'usecols' instead\n",
      "  \n",
      "C:\\ProgramData\\Anaconda\\envs\\py36\\lib\\site-packages\\pandas\\util\\_decorators.py:118: FutureWarning: The `sheetname` keyword is deprecated, use `sheet_name` instead\n",
      "  return func(*args, **kwargs)\n",
      "C:\\ProgramData\\Anaconda\\envs\\py36\\lib\\site-packages\\ipykernel_launcher.py:13: FutureWarning: the 'parse_cols' keyword is deprecated, use 'usecols' instead\n",
      "  del sys.path[0]\n"
     ]
    }
   ],
   "source": [
    "list_summoners = pd.read_excel('LVPSummoner.xlsx',\n",
    "                      sheetname = 'table_output',\n",
    "                      header = 0,\n",
    "                      index_col = 0,\n",
    "                      parse_cols = \"A\",\n",
    "                      convert_float = True)\n",
    "len(list_summoners)\n",
    "\n",
    "summ_file = pd.read_excel('LVP_Working_File_Simple.xlsx',\n",
    "                      sheetname = 'Sheet1',\n",
    "                      header = 0,\n",
    "                      parse_cols = \"A:E\",\n",
    "                      convert_float = True, index=False)"
   ]
  },
  {
   "cell_type": "code",
   "execution_count": 340,
   "metadata": {},
   "outputs": [],
   "source": [
    "def most_important(H):\n",
    "    \"\"\" returns a copy of G with\n",
    "     the most important nodes\n",
    "     according to the pagerank \"\"\" \n",
    "    ranking = nx.betweenness_centrality(H).items()\n",
    "    r = [x[1] for x in ranking]\n",
    "    m = sum(r)/len(r) # mean centrality\n",
    "    t = m*3 # threshold, we keep only the nodes with 3 times the mean\n",
    "    Gt = H.copy()\n",
    "    for k, v in ranking:\n",
    "        if v < t:\n",
    "            Gt.remove_node(k)\n",
    "    return Gt, m\n",
    "\n",
    "def most_important_w(H):\n",
    "    \"\"\" returns a copy of G with\n",
    "     the most important nodes\n",
    "     according to the pagerank \"\"\" \n",
    "    ranking = nx.betweenness_centrality(H, weight= 'matches_together').items()\n",
    "    r = [x[1] for x in ranking]\n",
    "    m = sum(r)/len(r) # mean centrality\n",
    "    t = m*3 # threshold, we keep only the nodes with 3 times the mean\n",
    "    Gt = H.copy()\n",
    "    for k, v in ranking:\n",
    "        if v < t:\n",
    "            Gt.remove_node(k)\n",
    "    return Gt, m"
   ]
  },
  {
   "cell_type": "code",
   "execution_count": 163,
   "metadata": {},
   "outputs": [],
   "source": [
    "list_records = []\n",
    "for i in range(len(list_summoners)):\n",
    "    G = nx.read_graphml(\"networks/playerNetwork_\"+ str(list_summoners.index[i]) +\".graphml\")\n",
    "    \n",
    "    # Características globales e id\n",
    "    ego_id = G.graph['ego_id']\n",
    "    num_nodes = len(list(G.nodes()))\n",
    "    \n",
    "    # Elimino el ego\n",
    "    G.remove_node(G.graph['ego_id'])\n",
    "    \n",
    "    # Partition Louvain\n",
    "    partition = community.best_partition(G)\n",
    "    num_communities = len(set(partition.values()))\n",
    "    modularity = community.modularity(partition, G)    \n",
    "    \n",
    "    # Measures\n",
    "    num_components = nx.number_connected_components(G)\n",
    "    density = nx.density(G)\n",
    "    node_coverage = len(list(G.nodes()))/(G.graph['total_matches']*4)\n",
    "    \n",
    "    # Giant component\n",
    "    Gcc = sorted(nx.connected_component_subgraphs(G), key=len, reverse=True)\n",
    "    G0 = Gcc[0]\n",
    "    giant_component_coverage = len(list(G0.nodes()))/len(list(G.nodes()))\n",
    "    \n",
    "    # Avg Degree\n",
    "    degrees = G.degree()\n",
    "    sum_of_edges = 0\n",
    "    for a, b in list(degrees):\n",
    "        sum_of_edges = sum_of_edges + b\n",
    "    avg_degree = sum_of_edges/len(list(G.nodes()))\n",
    "    \n",
    "    # Betweenness Centrality (most important nodes)\n",
    "    Gt, m = most_important(G)\n",
    "    num_important_nodes = len(list(Gt))\n",
    "    perc_important_nodes = len(list(Gt))/len(list(G.nodes()))\n",
    "    mean_centrality = m\n",
    "    \n",
    "    \n",
    "    list_records.append((ego_id, num_nodes, num_communities, modularity, num_components, density, \n",
    "                         node_coverage, giant_component_coverage, avg_degree, perc_important_nodes, mean_centrality))\n",
    "    \n",
    "    "
   ]
  },
  {
   "cell_type": "code",
   "execution_count": 164,
   "metadata": {},
   "outputs": [
    {
     "data": {
      "text/plain": [
       "439"
      ]
     },
     "execution_count": 164,
     "metadata": {},
     "output_type": "execute_result"
    }
   ],
   "source": [
    "len(list_records)"
   ]
  },
  {
   "cell_type": "code",
   "execution_count": 165,
   "metadata": {},
   "outputs": [],
   "source": [
    "labels = ['ego_id', 'num_nodes', 'num_communities', 'modularity', 'num_components', 'density', \n",
    "          'node_coverage', 'giant_component_coverage', 'avg_degree','perc_important_nodes', 'mean_centrality']\n",
    "egonets_df = pd.DataFrame.from_records(list_records, columns=labels)"
   ]
  },
  {
   "cell_type": "code",
   "execution_count": 166,
   "metadata": {},
   "outputs": [
    {
     "data": {
      "text/html": [
       "<div>\n",
       "<style scoped>\n",
       "    .dataframe tbody tr th:only-of-type {\n",
       "        vertical-align: middle;\n",
       "    }\n",
       "\n",
       "    .dataframe tbody tr th {\n",
       "        vertical-align: top;\n",
       "    }\n",
       "\n",
       "    .dataframe thead th {\n",
       "        text-align: right;\n",
       "    }\n",
       "</style>\n",
       "<table border=\"1\" class=\"dataframe\">\n",
       "  <thead>\n",
       "    <tr style=\"text-align: right;\">\n",
       "      <th></th>\n",
       "      <th>ego_id</th>\n",
       "      <th>num_nodes</th>\n",
       "      <th>num_communities</th>\n",
       "      <th>modularity</th>\n",
       "      <th>num_components</th>\n",
       "      <th>density</th>\n",
       "      <th>node_coverage</th>\n",
       "      <th>giant_component_coverage</th>\n",
       "      <th>avg_degree</th>\n",
       "      <th>perc_important_nodes</th>\n",
       "      <th>mean_centrality</th>\n",
       "    </tr>\n",
       "  </thead>\n",
       "  <tbody>\n",
       "    <tr>\n",
       "      <th>0</th>\n",
       "      <td>19459077</td>\n",
       "      <td>18</td>\n",
       "      <td>2</td>\n",
       "      <td>0.042192</td>\n",
       "      <td>1</td>\n",
       "      <td>0.389706</td>\n",
       "      <td>0.061594</td>\n",
       "      <td>1.000000</td>\n",
       "      <td>6.235294</td>\n",
       "      <td>0.058824</td>\n",
       "      <td>0.046569</td>\n",
       "    </tr>\n",
       "    <tr>\n",
       "      <th>1</th>\n",
       "      <td>20501992</td>\n",
       "      <td>22</td>\n",
       "      <td>3</td>\n",
       "      <td>0.538265</td>\n",
       "      <td>2</td>\n",
       "      <td>0.190476</td>\n",
       "      <td>0.750000</td>\n",
       "      <td>0.809524</td>\n",
       "      <td>3.809524</td>\n",
       "      <td>0.095238</td>\n",
       "      <td>0.036090</td>\n",
       "    </tr>\n",
       "    <tr>\n",
       "      <th>2</th>\n",
       "      <td>23407188</td>\n",
       "      <td>673</td>\n",
       "      <td>97</td>\n",
       "      <td>0.807652</td>\n",
       "      <td>85</td>\n",
       "      <td>0.005314</td>\n",
       "      <td>0.815534</td>\n",
       "      <td>0.491071</td>\n",
       "      <td>3.565476</td>\n",
       "      <td>0.007440</td>\n",
       "      <td>0.000517</td>\n",
       "    </tr>\n",
       "    <tr>\n",
       "      <th>3</th>\n",
       "      <td>27281117</td>\n",
       "      <td>45</td>\n",
       "      <td>13</td>\n",
       "      <td>0.185415</td>\n",
       "      <td>3</td>\n",
       "      <td>0.110994</td>\n",
       "      <td>0.297297</td>\n",
       "      <td>0.818182</td>\n",
       "      <td>4.772727</td>\n",
       "      <td>0.090909</td>\n",
       "      <td>0.015781</td>\n",
       "    </tr>\n",
       "    <tr>\n",
       "      <th>4</th>\n",
       "      <td>28306135</td>\n",
       "      <td>329</td>\n",
       "      <td>27</td>\n",
       "      <td>0.788217</td>\n",
       "      <td>25</td>\n",
       "      <td>0.011617</td>\n",
       "      <td>0.738739</td>\n",
       "      <td>0.634146</td>\n",
       "      <td>3.798780</td>\n",
       "      <td>0.015244</td>\n",
       "      <td>0.002134</td>\n",
       "    </tr>\n",
       "  </tbody>\n",
       "</table>\n",
       "</div>"
      ],
      "text/plain": [
       "     ego_id  num_nodes  num_communities  modularity  num_components   density  \\\n",
       "0  19459077         18                2    0.042192               1  0.389706   \n",
       "1  20501992         22                3    0.538265               2  0.190476   \n",
       "2  23407188        673               97    0.807652              85  0.005314   \n",
       "3  27281117         45               13    0.185415               3  0.110994   \n",
       "4  28306135        329               27    0.788217              25  0.011617   \n",
       "\n",
       "   node_coverage  giant_component_coverage  avg_degree  perc_important_nodes  \\\n",
       "0       0.061594                  1.000000    6.235294              0.058824   \n",
       "1       0.750000                  0.809524    3.809524              0.095238   \n",
       "2       0.815534                  0.491071    3.565476              0.007440   \n",
       "3       0.297297                  0.818182    4.772727              0.090909   \n",
       "4       0.738739                  0.634146    3.798780              0.015244   \n",
       "\n",
       "   mean_centrality  \n",
       "0         0.046569  \n",
       "1         0.036090  \n",
       "2         0.000517  \n",
       "3         0.015781  \n",
       "4         0.002134  "
      ]
     },
     "execution_count": 166,
     "metadata": {},
     "output_type": "execute_result"
    }
   ],
   "source": [
    "egonets_df.head()"
   ]
  },
  {
   "cell_type": "code",
   "execution_count": null,
   "metadata": {},
   "outputs": [],
   "source": [
    "egonets_df.to_csv('egonets_df.csv', index=False)\n",
    "#pd.read_csv('egonets_df.csv')"
   ]
  },
  {
   "cell_type": "code",
   "execution_count": 218,
   "metadata": {},
   "outputs": [],
   "source": [
    "summ_file['Summ_ID'] = summ_file['Summ_ID'].astype(str)\n",
    "egonets_data = egonets_df.merge(summ_file, how=\"inner\", left_on=\"ego_id\", right_on='Summ_ID')"
   ]
  },
  {
   "cell_type": "code",
   "execution_count": 219,
   "metadata": {},
   "outputs": [
    {
     "name": "stderr",
     "output_type": "stream",
     "text": [
      "C:\\ProgramData\\Anaconda\\envs\\py36\\lib\\site-packages\\ipykernel_launcher.py:1: FutureWarning: Categorical.from_array is deprecated, use Categorical instead\n",
      "  \"\"\"Entry point for launching an IPython kernel.\n",
      "C:\\ProgramData\\Anaconda\\envs\\py36\\lib\\site-packages\\ipykernel_launcher.py:1: FutureWarning: 'labels' is deprecated. Use 'codes' instead\n",
      "  \"\"\"Entry point for launching an IPython kernel.\n"
     ]
    }
   ],
   "source": [
    "egonets_data['result'] = pd.Categorical.from_array(egonets_data['Teamplay']).labels"
   ]
  },
  {
   "cell_type": "code",
   "execution_count": 230,
   "metadata": {},
   "outputs": [
    {
     "data": {
      "text/html": [
       "<div>\n",
       "<style scoped>\n",
       "    .dataframe tbody tr th:only-of-type {\n",
       "        vertical-align: middle;\n",
       "    }\n",
       "\n",
       "    .dataframe tbody tr th {\n",
       "        vertical-align: top;\n",
       "    }\n",
       "\n",
       "    .dataframe thead th {\n",
       "        text-align: right;\n",
       "    }\n",
       "</style>\n",
       "<table border=\"1\" class=\"dataframe\">\n",
       "  <thead>\n",
       "    <tr style=\"text-align: right;\">\n",
       "      <th></th>\n",
       "      <th>ego_id</th>\n",
       "      <th>num_nodes</th>\n",
       "      <th>num_communities</th>\n",
       "      <th>modularity</th>\n",
       "      <th>num_components</th>\n",
       "      <th>density</th>\n",
       "      <th>node_coverage</th>\n",
       "      <th>giant_component_coverage</th>\n",
       "      <th>avg_degree</th>\n",
       "      <th>perc_important_nodes</th>\n",
       "      <th>mean_centrality</th>\n",
       "      <th>Summ_ID</th>\n",
       "      <th>Summ_RANK</th>\n",
       "      <th>Role</th>\n",
       "      <th>Teamplay</th>\n",
       "      <th>Summ_totalGames</th>\n",
       "      <th>result</th>\n",
       "    </tr>\n",
       "  </thead>\n",
       "  <tbody>\n",
       "    <tr>\n",
       "      <th>0</th>\n",
       "      <td>19459077</td>\n",
       "      <td>18</td>\n",
       "      <td>2</td>\n",
       "      <td>0.042192</td>\n",
       "      <td>1</td>\n",
       "      <td>0.389706</td>\n",
       "      <td>0.061594</td>\n",
       "      <td>1.000000</td>\n",
       "      <td>6.235294</td>\n",
       "      <td>0.058824</td>\n",
       "      <td>0.046569</td>\n",
       "      <td>19459077</td>\n",
       "      <td>BRONZE</td>\n",
       "      <td>Bot - ADC</td>\n",
       "      <td>Equipo completo premade</td>\n",
       "      <td>69</td>\n",
       "      <td>0</td>\n",
       "    </tr>\n",
       "    <tr>\n",
       "      <th>1</th>\n",
       "      <td>20501992</td>\n",
       "      <td>22</td>\n",
       "      <td>3</td>\n",
       "      <td>0.538265</td>\n",
       "      <td>2</td>\n",
       "      <td>0.190476</td>\n",
       "      <td>0.750000</td>\n",
       "      <td>0.809524</td>\n",
       "      <td>3.809524</td>\n",
       "      <td>0.095238</td>\n",
       "      <td>0.036090</td>\n",
       "      <td>20501992</td>\n",
       "      <td>BRONZE</td>\n",
       "      <td>Bot - ADC</td>\n",
       "      <td>Premade de dos personas</td>\n",
       "      <td>7</td>\n",
       "      <td>1</td>\n",
       "    </tr>\n",
       "    <tr>\n",
       "      <th>2</th>\n",
       "      <td>23407188</td>\n",
       "      <td>673</td>\n",
       "      <td>97</td>\n",
       "      <td>0.807652</td>\n",
       "      <td>85</td>\n",
       "      <td>0.005314</td>\n",
       "      <td>0.815534</td>\n",
       "      <td>0.491071</td>\n",
       "      <td>3.565476</td>\n",
       "      <td>0.007440</td>\n",
       "      <td>0.000517</td>\n",
       "      <td>23407188</td>\n",
       "      <td>BRONZE</td>\n",
       "      <td>Support</td>\n",
       "      <td>Premade de dos personas</td>\n",
       "      <td>206</td>\n",
       "      <td>1</td>\n",
       "    </tr>\n",
       "    <tr>\n",
       "      <th>3</th>\n",
       "      <td>27281117</td>\n",
       "      <td>45</td>\n",
       "      <td>13</td>\n",
       "      <td>0.185415</td>\n",
       "      <td>3</td>\n",
       "      <td>0.110994</td>\n",
       "      <td>0.297297</td>\n",
       "      <td>0.818182</td>\n",
       "      <td>4.772727</td>\n",
       "      <td>0.090909</td>\n",
       "      <td>0.015781</td>\n",
       "      <td>27281117</td>\n",
       "      <td>BRONZE</td>\n",
       "      <td>No tengo preferencia alguna, relleno el hueco ...</td>\n",
       "      <td>Premade de tres o cuatro</td>\n",
       "      <td>37</td>\n",
       "      <td>2</td>\n",
       "    </tr>\n",
       "    <tr>\n",
       "      <th>4</th>\n",
       "      <td>28306135</td>\n",
       "      <td>329</td>\n",
       "      <td>27</td>\n",
       "      <td>0.788217</td>\n",
       "      <td>25</td>\n",
       "      <td>0.011617</td>\n",
       "      <td>0.738739</td>\n",
       "      <td>0.634146</td>\n",
       "      <td>3.798780</td>\n",
       "      <td>0.015244</td>\n",
       "      <td>0.002134</td>\n",
       "      <td>28306135</td>\n",
       "      <td>BRONZE</td>\n",
       "      <td>No tengo preferencia alguna, relleno el hueco ...</td>\n",
       "      <td>Premade de dos personas</td>\n",
       "      <td>111</td>\n",
       "      <td>1</td>\n",
       "    </tr>\n",
       "  </tbody>\n",
       "</table>\n",
       "</div>"
      ],
      "text/plain": [
       "     ego_id  num_nodes  num_communities  modularity  num_components   density  \\\n",
       "0  19459077         18                2    0.042192               1  0.389706   \n",
       "1  20501992         22                3    0.538265               2  0.190476   \n",
       "2  23407188        673               97    0.807652              85  0.005314   \n",
       "3  27281117         45               13    0.185415               3  0.110994   \n",
       "4  28306135        329               27    0.788217              25  0.011617   \n",
       "\n",
       "   node_coverage  giant_component_coverage  avg_degree  perc_important_nodes  \\\n",
       "0       0.061594                  1.000000    6.235294              0.058824   \n",
       "1       0.750000                  0.809524    3.809524              0.095238   \n",
       "2       0.815534                  0.491071    3.565476              0.007440   \n",
       "3       0.297297                  0.818182    4.772727              0.090909   \n",
       "4       0.738739                  0.634146    3.798780              0.015244   \n",
       "\n",
       "   mean_centrality   Summ_ID Summ_RANK  \\\n",
       "0         0.046569  19459077    BRONZE   \n",
       "1         0.036090  20501992    BRONZE   \n",
       "2         0.000517  23407188    BRONZE   \n",
       "3         0.015781  27281117    BRONZE   \n",
       "4         0.002134  28306135    BRONZE   \n",
       "\n",
       "                                                Role  \\\n",
       "0                                          Bot - ADC   \n",
       "1                                          Bot - ADC   \n",
       "2                                            Support   \n",
       "3  No tengo preferencia alguna, relleno el hueco ...   \n",
       "4  No tengo preferencia alguna, relleno el hueco ...   \n",
       "\n",
       "                   Teamplay  Summ_totalGames  result  \n",
       "0   Equipo completo premade               69       0  \n",
       "1   Premade de dos personas                7       1  \n",
       "2   Premade de dos personas              206       1  \n",
       "3  Premade de tres o cuatro               37       2  \n",
       "4   Premade de dos personas              111       1  "
      ]
     },
     "execution_count": 230,
     "metadata": {},
     "output_type": "execute_result"
    }
   ],
   "source": [
    "egonets_data.shape\n",
    "egonets_data.to_csv('egonets_data.csv', index=False)\n",
    "egonets_data.head()"
   ]
  },
  {
   "cell_type": "code",
   "execution_count": 231,
   "metadata": {},
   "outputs": [],
   "source": [
    "# Normalizo communities y components\n",
    "egonets_data['num_communities'] = egonets_data['num_communities']/egonets_data['Summ_totalGames']\n",
    "egonets_data['num_components'] = egonets_data['num_components']/egonets_data['Summ_totalGames']"
   ]
  },
  {
   "cell_type": "code",
   "execution_count": 236,
   "metadata": {},
   "outputs": [
    {
     "data": {
      "text/plain": [
       "0.86290080008415682"
      ]
     },
     "execution_count": 236,
     "metadata": {},
     "output_type": "execute_result"
    }
   ],
   "source": [
    "egonets_data['num_communities'].corr(egonets_data['num_components'])"
   ]
  },
  {
   "cell_type": "code",
   "execution_count": 268,
   "metadata": {},
   "outputs": [],
   "source": [
    "variable_names = ['Modularity', 'Components', 'Density', 'Coverage', 'Giant_Component_Coverage', \n",
    "                  'AVG_degree','Perc_Important_Nodes', 'AVG_centrality']\n",
    "target_names = ['Premade', 'Duo', 'Grupo', 'Solo']\n",
    "X = egonets_data.values[:, 3:11]\n",
    "Y = egonets_data['result'].values"
   ]
  },
  {
   "cell_type": "code",
   "execution_count": 269,
   "metadata": {},
   "outputs": [],
   "source": [
    "from sklearn import tree\n",
    "from sklearn.cross_validation import train_test_split\n",
    "from sklearn.tree import DecisionTreeClassifier\n",
    "from sklearn.metrics import accuracy_score\n",
    "\n",
    "X_train, X_test, y_train, y_test = train_test_split( X, Y, test_size = 0.3, random_state = 100)\n",
    "\n",
    "clf = tree.DecisionTreeClassifier(criterion = \"gini\", max_features=None, max_depth=4, min_samples_leaf=2)\n",
    "clf = clf.fit(X_train, y_train)"
   ]
  },
  {
   "cell_type": "code",
   "execution_count": 270,
   "metadata": {},
   "outputs": [
    {
     "data": {
      "text/plain": [
       "'egonets.pdf'"
      ]
     },
     "execution_count": 270,
     "metadata": {},
     "output_type": "execute_result"
    }
   ],
   "source": [
    "import graphviz\n",
    "dot_data = tree.export_graphviz(clf, out_file=None, feature_names=variable_names, class_names=target_names,  \n",
    "                         filled=True, rounded=True, special_characters=True)\n",
    "graph = graphviz.Source(dot_data)  \n",
    "graph.render(\"egonets\")"
   ]
  },
  {
   "cell_type": "code",
   "execution_count": 271,
   "metadata": {},
   "outputs": [
    {
     "data": {
      "text/plain": [
       "array([1, 1, 1, 3, 3, 2, 1, 1, 1, 3, 1, 0, 1, 1, 1, 1, 2, 1, 1, 2, 2, 2, 2,\n",
       "       1, 0, 1, 2, 2, 1, 1, 1, 2, 1, 2, 1, 1, 2, 1, 1, 1, 1, 1, 1, 1, 1, 1,\n",
       "       3, 1, 2, 1, 3, 1, 0, 2, 1, 1, 1, 2, 1, 3, 1, 1, 2, 1, 1, 1, 2, 1, 2,\n",
       "       1, 2, 2, 1, 1, 2, 1, 2, 2, 1, 1, 2, 2, 1, 1, 1, 2, 3, 1, 0, 1, 1, 2,\n",
       "       1, 3, 2, 3, 1, 1, 3, 1, 2, 3, 2, 1, 1, 1, 1, 0, 1, 2, 1, 3, 1, 2, 1,\n",
       "       1, 1, 1, 1, 1, 3, 2, 2, 1, 2, 1, 2, 1, 1, 1, 1, 3], dtype=int8)"
      ]
     },
     "execution_count": 271,
     "metadata": {},
     "output_type": "execute_result"
    }
   ],
   "source": [
    "y_pred = clf.predict(X_test)\n",
    "y_pred"
   ]
  },
  {
   "cell_type": "code",
   "execution_count": 272,
   "metadata": {},
   "outputs": [
    {
     "name": "stdout",
     "output_type": "stream",
     "text": [
      "Accuracy is 52.2727272727\n"
     ]
    }
   ],
   "source": [
    "print(\"Accuracy is \" + str(accuracy_score(y_test,y_pred)*100))"
   ]
  },
  {
   "cell_type": "markdown",
   "metadata": {},
   "source": [
    "# K-Means"
   ]
  },
  {
   "cell_type": "code",
   "execution_count": 242,
   "metadata": {},
   "outputs": [],
   "source": [
    "from sklearn import cluster"
   ]
  },
  {
   "cell_type": "code",
   "execution_count": 273,
   "metadata": {},
   "outputs": [
    {
     "data": {
      "text/plain": [
       "KMeans(algorithm='auto', copy_x=True, init='k-means++', max_iter=300,\n",
       "    n_clusters=4, n_init=10, n_jobs=1, precompute_distances='auto',\n",
       "    random_state=None, tol=0.0001, verbose=0)"
      ]
     },
     "execution_count": 273,
     "metadata": {},
     "output_type": "execute_result"
    }
   ],
   "source": [
    "X = egonets_data.values[:, 3:11]\n",
    "Y = egonets_data['result'].values\n",
    "\n",
    "\n",
    "k_means = cluster.KMeans(n_clusters=4)\n",
    "k_means.fit(X) "
   ]
  },
  {
   "cell_type": "code",
   "execution_count": 274,
   "metadata": {},
   "outputs": [
    {
     "name": "stdout",
     "output_type": "stream",
     "text": [
      "[2 2 0 0 3 2 0 2 3 0 3 0 0 1 3 0 1 3 3 1 1 3 1 2 0 1 3 3 1 1 3 0 0 1 1 0 3\n",
      " 1 3 1 1 0 0 3 0 0 0 3 0 3 1 0 1 2 2 1 0 3 0 0 3 0 0 2 1 2 0 1 1 0 0 3 3 0\n",
      " 0 3 3 3 3 3 0 3 1 3 3 3 3 3 1 3 3 3 1 0 1 0 0 2 0 3 0 1 1 2 0 1 1 0 0 3 1\n",
      " 3 0 2 3 3 3 0 0 2 0 2 3 3 2 3 3 3 0 1 0 0 2 0 0 3 3 2 0 3 1 3 1 0 3 3 2]\n",
      "[0 2 2 1 3 2 2 0 1 1 2 1 2 3 1 2 3 0 3 1 3 0 3 0 1 3 2 3 3 3 0 2 1 1 2 1 2\n",
      " 1 2 3 1 2 1 1 3 1 0 2 1 2 3 2 3 1 2 3 1 1 1 2 1 2 2 2 3 2 2 2 3 1 2 1 1 1\n",
      " 2 1 3 2 1 1 3 0 3 1 1 1 1 3 2 0 0 1 2 1 3 2 1 2 2 2 2 1 0 2 0 3 2 0 2 2 1\n",
      " 2 1 1 2 0 1 1 2 2 2 1 2 1 1 1 1 2 0 3 1 2 2 1 2 2 1 1 3 1 1 1 3 2 1 1 2]\n"
     ]
    }
   ],
   "source": [
    "print(k_means.labels_[::3])\n",
    "\n",
    "print(Y[::3])"
   ]
  },
  {
   "cell_type": "markdown",
   "metadata": {},
   "source": [
    "# A PARTIR DE AQUÍ"
   ]
  },
  {
   "cell_type": "code",
   "execution_count": 275,
   "metadata": {},
   "outputs": [
    {
     "data": {
      "image/png": "[encoded data removed]",
      "text/plain": [
       "<matplotlib.figure.Figure at 0x1bb2f658b70>"
      ]
     },
     "metadata": {},
     "output_type": "display_data"
    }
   ],
   "source": [
    "import yellowbrick\n",
    "from sklearn.cluster import MiniBatchKMeans, KMeans\n",
    "from yellowbrick.cluster.elbow import KElbowVisualizer\n",
    "\n",
    "# Instantiate the clustering model and visualizer\n",
    "visualizer = KElbowVisualizer(KMeans(), k=(2,12))\n",
    "\n",
    "visualizer.fit(X) # Fit the training data to the visualizer\n",
    "visualizer.poof() # Draw/show/poof the data"
   ]
  },
  {
   "cell_type": "markdown",
   "metadata": {},
   "source": [
    "## Hay un cambio de ángulo claro en el k=7"
   ]
  },
  {
   "cell_type": "code",
   "execution_count": 276,
   "metadata": {},
   "outputs": [
    {
     "data": {
      "image/png": "[encoded data removed]",
      "text/plain": [
       "<matplotlib.figure.Figure at 0x1bb2edb8cc0>"
      ]
     },
     "metadata": {},
     "output_type": "display_data"
    }
   ],
   "source": [
    "from yellowbrick.cluster.silhouette import SilhouetteVisualizer\n",
    "\n",
    "# Instantiate the clustering model and visualizer\n",
    "model = KMeans(7)\n",
    "visualizer = SilhouetteVisualizer(model)\n",
    "\n",
    "visualizer.fit(X) # Fit the training data to the visualizer\n",
    "visualizer.poof() # Draw/show/poof the data"
   ]
  },
  {
   "cell_type": "markdown",
   "metadata": {},
   "source": [
    "## Voy a reducir el número de parámetros (en realidad sólo trasteo porque aquí el y_train es el supervisado)"
   ]
  },
  {
   "cell_type": "code",
   "execution_count": 277,
   "metadata": {},
   "outputs": [
    {
     "data": {
      "text/plain": [
       "(307, 4)"
      ]
     },
     "execution_count": 277,
     "metadata": {},
     "output_type": "execute_result"
    }
   ],
   "source": [
    "from sklearn.feature_selection import SelectKBest\n",
    "from sklearn.feature_selection import chi2\n",
    "\n",
    "selector = SelectKBest(chi2, k=4).fit(X_train, y_train)\n",
    "X_train_new = selector.fit_transform(X_train, y_train)\n",
    "X_train_new.shape"
   ]
  },
  {
   "cell_type": "code",
   "execution_count": 278,
   "metadata": {},
   "outputs": [
    {
     "data": {
      "text/html": [
       "<div>\n",
       "<style scoped>\n",
       "    .dataframe tbody tr th:only-of-type {\n",
       "        vertical-align: middle;\n",
       "    }\n",
       "\n",
       "    .dataframe tbody tr th {\n",
       "        vertical-align: top;\n",
       "    }\n",
       "\n",
       "    .dataframe thead th {\n",
       "        text-align: right;\n",
       "    }\n",
       "</style>\n",
       "<table border=\"1\" class=\"dataframe\">\n",
       "  <thead>\n",
       "    <tr style=\"text-align: right;\">\n",
       "      <th></th>\n",
       "      <th>0</th>\n",
       "      <th>1</th>\n",
       "      <th>2</th>\n",
       "      <th>3</th>\n",
       "    </tr>\n",
       "  </thead>\n",
       "  <tbody>\n",
       "    <tr>\n",
       "      <th>0</th>\n",
       "      <td>0.303571</td>\n",
       "      <td>0.714286</td>\n",
       "      <td>0.568750</td>\n",
       "      <td>3.762500</td>\n",
       "    </tr>\n",
       "    <tr>\n",
       "      <th>1</th>\n",
       "      <td>0.610169</td>\n",
       "      <td>0.846133</td>\n",
       "      <td>0.144288</td>\n",
       "      <td>3.341158</td>\n",
       "    </tr>\n",
       "    <tr>\n",
       "      <th>2</th>\n",
       "      <td>0.142857</td>\n",
       "      <td>0.590659</td>\n",
       "      <td>0.745736</td>\n",
       "      <td>4.117829</td>\n",
       "    </tr>\n",
       "    <tr>\n",
       "      <th>3</th>\n",
       "      <td>0.614849</td>\n",
       "      <td>0.850348</td>\n",
       "      <td>0.261937</td>\n",
       "      <td>3.326057</td>\n",
       "    </tr>\n",
       "    <tr>\n",
       "      <th>4</th>\n",
       "      <td>0.730000</td>\n",
       "      <td>0.905000</td>\n",
       "      <td>0.157459</td>\n",
       "      <td>3.220994</td>\n",
       "    </tr>\n",
       "  </tbody>\n",
       "</table>\n",
       "</div>"
      ],
      "text/plain": [
       "          0         1         2         3\n",
       "0  0.303571  0.714286  0.568750  3.762500\n",
       "1  0.610169  0.846133  0.144288  3.341158\n",
       "2  0.142857  0.590659  0.745736  4.117829\n",
       "3  0.614849  0.850348  0.261937  3.326057\n",
       "4  0.730000  0.905000  0.157459  3.220994"
      ]
     },
     "execution_count": 278,
     "metadata": {},
     "output_type": "execute_result"
    }
   ],
   "source": [
    "pd.DataFrame.from_records(X_train_new).head()"
   ]
  },
  {
   "cell_type": "code",
   "execution_count": 279,
   "metadata": {},
   "outputs": [
    {
     "data": {
      "text/html": [
       "<div>\n",
       "<style scoped>\n",
       "    .dataframe tbody tr th:only-of-type {\n",
       "        vertical-align: middle;\n",
       "    }\n",
       "\n",
       "    .dataframe tbody tr th {\n",
       "        vertical-align: top;\n",
       "    }\n",
       "\n",
       "    .dataframe thead th {\n",
       "        text-align: right;\n",
       "    }\n",
       "</style>\n",
       "<table border=\"1\" class=\"dataframe\">\n",
       "  <thead>\n",
       "    <tr style=\"text-align: right;\">\n",
       "      <th></th>\n",
       "      <th>0</th>\n",
       "      <th>1</th>\n",
       "      <th>2</th>\n",
       "      <th>3</th>\n",
       "      <th>4</th>\n",
       "      <th>5</th>\n",
       "      <th>6</th>\n",
       "      <th>7</th>\n",
       "    </tr>\n",
       "  </thead>\n",
       "  <tbody>\n",
       "    <tr>\n",
       "      <th>0</th>\n",
       "      <td>0.678970</td>\n",
       "      <td>0.303571</td>\n",
       "      <td>0.023664</td>\n",
       "      <td>0.714286</td>\n",
       "      <td>0.568750</td>\n",
       "      <td>3.762500</td>\n",
       "      <td>0.018750</td>\n",
       "      <td>0.002203</td>\n",
       "    </tr>\n",
       "    <tr>\n",
       "      <th>1</th>\n",
       "      <td>0.970618</td>\n",
       "      <td>0.610169</td>\n",
       "      <td>0.000523</td>\n",
       "      <td>0.846133</td>\n",
       "      <td>0.144288</td>\n",
       "      <td>3.341158</td>\n",
       "      <td>0.006260</td>\n",
       "      <td>0.000005</td>\n",
       "    </tr>\n",
       "    <tr>\n",
       "      <th>2</th>\n",
       "      <td>0.673775</td>\n",
       "      <td>0.142857</td>\n",
       "      <td>0.006394</td>\n",
       "      <td>0.590659</td>\n",
       "      <td>0.745736</td>\n",
       "      <td>4.117829</td>\n",
       "      <td>0.021705</td>\n",
       "      <td>0.001468</td>\n",
       "    </tr>\n",
       "    <tr>\n",
       "      <th>3</th>\n",
       "      <td>0.866468</td>\n",
       "      <td>0.614849</td>\n",
       "      <td>0.002270</td>\n",
       "      <td>0.850348</td>\n",
       "      <td>0.261937</td>\n",
       "      <td>3.326057</td>\n",
       "      <td>0.002729</td>\n",
       "      <td>0.000051</td>\n",
       "    </tr>\n",
       "    <tr>\n",
       "      <th>4</th>\n",
       "      <td>0.942200</td>\n",
       "      <td>0.730000</td>\n",
       "      <td>0.008922</td>\n",
       "      <td>0.905000</td>\n",
       "      <td>0.157459</td>\n",
       "      <td>3.220994</td>\n",
       "      <td>0.008287</td>\n",
       "      <td>0.000066</td>\n",
       "    </tr>\n",
       "  </tbody>\n",
       "</table>\n",
       "</div>"
      ],
      "text/plain": [
       "          0         1         2         3         4         5         6  \\\n",
       "0  0.678970  0.303571  0.023664  0.714286  0.568750  3.762500  0.018750   \n",
       "1  0.970618  0.610169  0.000523  0.846133  0.144288  3.341158  0.006260   \n",
       "2  0.673775  0.142857  0.006394  0.590659  0.745736  4.117829  0.021705   \n",
       "3  0.866468  0.614849  0.002270  0.850348  0.261937  3.326057  0.002729   \n",
       "4  0.942200  0.730000  0.008922  0.905000  0.157459  3.220994  0.008287   \n",
       "\n",
       "          7  \n",
       "0  0.002203  \n",
       "1  0.000005  \n",
       "2  0.001468  \n",
       "3  0.000051  \n",
       "4  0.000066  "
      ]
     },
     "execution_count": 279,
     "metadata": {},
     "output_type": "execute_result"
    }
   ],
   "source": [
    "pd.DataFrame.from_records(X_train).head()"
   ]
  },
  {
   "cell_type": "markdown",
   "metadata": {},
   "source": [
    "## Está cogiendo num_components, Coverage, Giant_Component_Coverage,          AVG_degree. Modularity no queda muy lejos, al igual debería coger 5 parámetros."
   ]
  },
  {
   "cell_type": "code",
   "execution_count": 280,
   "metadata": {},
   "outputs": [
    {
     "name": "stdout",
     "output_type": "stream",
     "text": [
      "[ 1.71430484  8.56140325  0.33093962  2.25028574  7.42942232  2.5215404\n",
      "  0.48175671  0.09012724]\n"
     ]
    }
   ],
   "source": [
    "print(selector.scores_)"
   ]
  },
  {
   "cell_type": "code",
   "execution_count": 281,
   "metadata": {},
   "outputs": [
    {
     "name": "stdout",
     "output_type": "stream",
     "text": [
      "(307, 5)\n",
      "[ 1.71430484  8.56140325  0.33093962  2.25028574  7.42942232  2.5215404\n",
      "  0.48175671  0.09012724]\n"
     ]
    }
   ],
   "source": [
    "# Lo hago\n",
    "selector = SelectKBest(chi2, k=5).fit(X_train, y_train)\n",
    "X_train_new = selector.fit_transform(X_train, y_train)\n",
    "print(X_train_new.shape)\n",
    "print(selector.scores_)"
   ]
  },
  {
   "cell_type": "code",
   "execution_count": 311,
   "metadata": {},
   "outputs": [],
   "source": [
    "X_reduced = egonets_data.values[:, [3,4,6,7,8]]"
   ]
  },
  {
   "cell_type": "code",
   "execution_count": 283,
   "metadata": {},
   "outputs": [
    {
     "data": {
      "image/png": "[encoded data removed]",
      "text/plain": [
       "<matplotlib.figure.Figure at 0x1bb312707f0>"
      ]
     },
     "metadata": {},
     "output_type": "display_data"
    }
   ],
   "source": [
    "visualizer = KElbowVisualizer(KMeans(), k=(2,12))\n",
    "\n",
    "visualizer.fit(X_reduced) # Fit the training data to the visualizer\n",
    "visualizer.poof() # Draw/show/poof the data"
   ]
  },
  {
   "cell_type": "markdown",
   "metadata": {},
   "source": [
    "## Reduciendo, salen entre 6 y 8. 6 mejor, que son menos."
   ]
  },
  {
   "cell_type": "code",
   "execution_count": 288,
   "metadata": {},
   "outputs": [
    {
     "data": {
      "image/png": "[encoded data removed]",
      "text/plain": [
       "<matplotlib.figure.Figure at 0x1bb2f65b4e0>"
      ]
     },
     "metadata": {},
     "output_type": "display_data"
    }
   ],
   "source": [
    "model = KMeans(6)\n",
    "visualizer = SilhouetteVisualizer(model)\n",
    "\n",
    "visualizer.fit(X_reduced) # Fit the training data to the visualizer\n",
    "visualizer.poof() # Draw/show/poof the data"
   ]
  },
  {
   "cell_type": "markdown",
   "metadata": {},
   "source": [
    "¿Por qué a veces al correr el modelo sale algún grupo vacío? ¿Bad inicialization, que dicen por ahí?\n",
    "\n",
    "# VAMOS A HACERLO BIEN"
   ]
  },
  {
   "cell_type": "code",
   "execution_count": 289,
   "metadata": {},
   "outputs": [
    {
     "name": "stdout",
     "output_type": "stream",
     "text": [
      "[5 2 4 0 0 2 0 4 3 0 3 0 0 1 3 4 1 0 0 1 1 0 1 4 0 1 0 3 1 1 3 4 0 3 1 0 0\n",
      " 1 0 1 1 0 4 3 0 4 4 3 0 3 1 0 3 4 2 1 4 0 4 0 0 4 0 2 3 4 4 3 1 0 4 3 3 0\n",
      " 0 3 3 3 3 0 0 3 1 3 3 3 3 3 1 0 0 3 1 0 3 0 0 2 4 3 0 1 1 4 4 1 1 0 0 3 1\n",
      " 3 0 2 0 3 3 0 0 2 4 4 3 3 4 3 3 3 4 1 0 4 2 4 4 3 3 2 0 3 1 0 6 0 3 3 2]\n"
     ]
    }
   ],
   "source": [
    "# AHORA LO HAGO BIEN, tras ver que parecen 7 clusters lo óptimo\n",
    "\n",
    "k_means = cluster.KMeans(n_clusters=7)\n",
    "k_means.fit(X)\n",
    "print(k_means.labels_[::3])"
   ]
  },
  {
   "cell_type": "code",
   "execution_count": 307,
   "metadata": {},
   "outputs": [
    {
     "data": {
      "text/plain": [
       "(439, 7)"
      ]
     },
     "execution_count": 307,
     "metadata": {},
     "output_type": "execute_result"
    }
   ],
   "source": [
    "selector = SelectKBest(chi2, k=7).fit(X, k_means.labels_)\n",
    "X_new = selector.fit_transform(X, k_means.labels_)\n",
    "X_new.shape"
   ]
  },
  {
   "cell_type": "code",
   "execution_count": 308,
   "metadata": {},
   "outputs": [
    {
     "name": "stdout",
     "output_type": "stream",
     "text": [
      "[  14.11974891   61.49585232   17.39589833   11.93051715   62.95942995\n",
      "   21.62988664  154.56423431    2.51997038]\n"
     ]
    }
   ],
   "source": [
    "print(selector.scores_)"
   ]
  },
  {
   "cell_type": "code",
   "execution_count": 309,
   "metadata": {},
   "outputs": [
    {
     "name": "stdout",
     "output_type": "stream",
     "text": [
      "          0         1         2         3         4         5         6\n",
      "0  0.042192  0.014493  0.389706  0.061594  1.000000  6.235294  0.058824\n",
      "1  0.538265  0.285714  0.190476  0.750000  0.809524  3.809524  0.095238\n",
      "2  0.807652  0.412621  0.005314  0.815534  0.491071  3.565476  0.007440\n",
      "3  0.185415  0.081081  0.110994  0.297297  0.818182  4.772727  0.090909\n",
      "4  0.788217  0.225225  0.011617  0.738739  0.634146  3.798780  0.015244\n",
      "          0         1         2         3         4         5         6  \\\n",
      "0  0.042192  0.014493  0.389706  0.061594  1.000000  6.235294  0.058824   \n",
      "1  0.538265  0.285714  0.190476  0.750000  0.809524  3.809524  0.095238   \n",
      "2  0.807652  0.412621  0.005314  0.815534  0.491071  3.565476  0.007440   \n",
      "3  0.185415  0.081081  0.110994  0.297297  0.818182  4.772727  0.090909   \n",
      "4  0.788217  0.225225  0.011617  0.738739  0.634146  3.798780  0.015244   \n",
      "\n",
      "          7  \n",
      "0  0.046569  \n",
      "1  0.036090  \n",
      "2  0.000517  \n",
      "3  0.015781  \n",
      "4  0.002134  \n"
     ]
    }
   ],
   "source": [
    "print(pd.DataFrame.from_records(X_new).head())\n",
    "print(pd.DataFrame.from_records(X).head())"
   ]
  },
  {
   "cell_type": "markdown",
   "metadata": {},
   "source": [
    "Está cogiendo 1,2,4,5,6 -> 'Modularity', **'Components'**, **'Density'**, 'Coverage', **'Giant_Component_Coverage'**, \n",
    "                  **'AVG_degree'**,**'Perc_Important_Nodes'**, 'AVG_centrality' "
   ]
  },
  {
   "cell_type": "code",
   "execution_count": 313,
   "metadata": {},
   "outputs": [],
   "source": [
    "X_new_reduced = egonets_data.values[:, 3:10]"
   ]
  },
  {
   "cell_type": "code",
   "execution_count": 339,
   "metadata": {},
   "outputs": [
    {
     "data": {
      "image/png": "[encoded data removed]",
      "text/plain": [
       "<matplotlib.figure.Figure at 0x1bb2d7ed4a8>"
      ]
     },
     "metadata": {},
     "output_type": "display_data"
    }
   ],
   "source": [
    "visualizer = KElbowVisualizer(KMeans(), k=(2,12))\n",
    "\n",
    "visualizer.fit(X_new_reduced) # Fit the training data to the visualizer\n",
    "visualizer.poof() # Draw/show/poof the data"
   ]
  },
  {
   "cell_type": "code",
   "execution_count": 336,
   "metadata": {},
   "outputs": [
    {
     "data": {
      "image/png": "[encoded data removed]",
      "text/plain": [
       "<matplotlib.figure.Figure at 0x1bb309275f8>"
      ]
     },
     "metadata": {},
     "output_type": "display_data"
    }
   ],
   "source": [
    "model = KMeans(6)\n",
    "visualizer = SilhouetteVisualizer(model)\n",
    "\n",
    "visualizer.fit(X_reduced) # Fit the training data to the visualizer\n",
    "visualizer.poof() # Draw/show/poof the data"
   ]
  },
  {
   "cell_type": "code",
   "execution_count": null,
   "metadata": {},
   "outputs": [],
   "source": []
  },
  {
   "cell_type": "markdown",
   "metadata": {},
   "source": [
    "# EXTRA DATOS (WEIGHTED)"
   ]
  },
  {
   "cell_type": "code",
   "execution_count": 343,
   "metadata": {},
   "outputs": [],
   "source": [
    "list_records_w = []\n",
    "for i in range(len(list_summoners)):\n",
    "    G = nx.read_graphml(\"networks/playerNetwork_\"+ str(list_summoners.index[i]) +\".graphml\")\n",
    "    \n",
    "    # Características globales e id\n",
    "    ego_id = G.graph['ego_id']\n",
    "    \n",
    "    # Elimino el ego\n",
    "    G.remove_node(G.graph['ego_id'])\n",
    "    \n",
    "    # Partition Louvain (YA TENIA EN CUENTA EL PESO)\n",
    "       \n",
    "    # Measures (OK)\n",
    "    \n",
    "    # Giant component (OK)\n",
    "    \n",
    "    # Avg Degree (Añado peso)\n",
    "    degrees = G.degree(weight= 'matches_together')\n",
    "    sum_of_edges = 0\n",
    "    for a, b in list(degrees):\n",
    "        sum_of_edges = sum_of_edges + b\n",
    "    avg_degree_w = sum_of_edges/len(list(G.nodes()))\n",
    "    \n",
    "    # Betweenness Centrality (most important nodes)\n",
    "    Gt, m = most_important_w(G)\n",
    "    num_important_nodes_w = len(list(Gt))\n",
    "    perc_important_nodes_w = len(list(Gt))/len(list(G.nodes()))\n",
    "    mean_centrality_w = m\n",
    "    \n",
    "    \n",
    "    list_records_w.append((ego_id, avg_degree_w, perc_important_nodes_w, mean_centrality_w))"
   ]
  },
  {
   "cell_type": "code",
   "execution_count": 344,
   "metadata": {},
   "outputs": [],
   "source": [
    "labels = ['ego_id', 'avg_degree_w','perc_important_nodes_w', 'mean_centrality_w']\n",
    "egonets_df_w = pd.DataFrame.from_records(list_records_w, columns=labels)\n",
    "egonets_df_w.to_csv('egonets_df_w.csv', index=False)"
   ]
  },
  {
   "cell_type": "code",
   "execution_count": null,
   "metadata": {},
   "outputs": [],
   "source": []
  }
 ],
 "metadata": {
  "kernelspec": {
   "display_name": "Python 3",
   "language": "python",
   "name": "python3"
  },
  "language_info": {
   "codemirror_mode": {
    "name": "ipython",
    "version": 3
   },
   "file_extension": ".py",
   "mimetype": "text/x-python",
   "name": "python",
   "nbconvert_exporter": "python",
   "pygments_lexer": "ipython3",
   "version": "3.6.3"
  }
 },
 "nbformat": 4,
 "nbformat_minor": 2
}
