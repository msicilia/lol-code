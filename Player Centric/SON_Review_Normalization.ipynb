{
 "cells": [
  {
   "cell_type": "code",
   "execution_count": 1,
   "metadata": {},
   "outputs": [
    {
     "name": "stderr",
     "output_type": "stream",
     "text": [
      "C:\\ProgramData\\Anaconda\\envs\\py36\\lib\\site-packages\\ipykernel_launcher.py:20: FutureWarning: the 'parse_cols' keyword is deprecated, use 'usecols' instead\n",
      "C:\\ProgramData\\Anaconda\\envs\\py36\\lib\\site-packages\\pandas\\util\\_decorators.py:118: FutureWarning: The `sheetname` keyword is deprecated, use `sheet_name` instead\n",
      "  return func(*args, **kwargs)\n",
      "C:\\ProgramData\\Anaconda\\envs\\py36\\lib\\site-packages\\ipykernel_launcher.py:27: FutureWarning: the 'parse_cols' keyword is deprecated, use 'usecols' instead\n"
     ]
    }
   ],
   "source": [
    "import json\n",
    "import requests as rq\n",
    "import pandas as pd\n",
    "import numpy as np\n",
    "import time\n",
    "import itertools\n",
    "import networkx as nx\n",
    "from networkx.algorithms import bipartite\n",
    "import matplotlib.pyplot as plt\n",
    "G=nx.Graph()\n",
    "import pymongo\n",
    "from pymongo import MongoClient\n",
    "import community\n",
    "\n",
    "list_summoners = pd.read_excel('LVPSummoner.xlsx',\n",
    "                      sheetname = 'table_output',\n",
    "                      header = 0,\n",
    "                      index_col = 0,\n",
    "                      parse_cols = \"A\",\n",
    "                      convert_float = True)\n",
    "len(list_summoners)\n",
    "\n",
    "summ_file = pd.read_excel('LVP_Working_File_Simple.xlsx',\n",
    "                      sheetname = 'Sheet1',\n",
    "                      header = 0,\n",
    "                      parse_cols = \"A:E\",\n",
    "                      convert_float = True, index=False)"
   ]
  },
  {
   "cell_type": "code",
   "execution_count": 2,
   "metadata": {},
   "outputs": [],
   "source": [
    "def most_important(H):\n",
    "    \"\"\" returns a copy of G with\n",
    "     the most important nodes\n",
    "     according to the pagerank \"\"\" \n",
    "    ranking = nx.betweenness_centrality(H).items()\n",
    "    r = [x[1] for x in ranking]\n",
    "    m = sum(r)/len(r) # mean centrality\n",
    "    t = m*3 # threshold, we keep only the nodes with 3 times the mean\n",
    "    Gt = H.copy()\n",
    "    for k, v in ranking:\n",
    "        if v < t:\n",
    "            Gt.remove_node(k)\n",
    "    return Gt, m\n",
    "\n",
    "def most_important_w(H):\n",
    "    \"\"\" returns a copy of G with\n",
    "     the most important nodes\n",
    "     according to the pagerank \"\"\" \n",
    "    ranking = nx.betweenness_centrality(H, weight= 'matches_together').items()\n",
    "    r = [x[1] for x in ranking]\n",
    "    m = sum(r)/len(r) # mean centrality\n",
    "    t = m*3 # threshold, we keep only the nodes with 3 times the mean\n",
    "    Gt = H.copy()\n",
    "    for k, v in ranking:\n",
    "        if v < t:\n",
    "            Gt.remove_node(k)\n",
    "    return Gt, m"
   ]
  },
  {
   "cell_type": "code",
   "execution_count": 3,
   "metadata": {},
   "outputs": [],
   "source": [
    "list_records = []\n",
    "\n",
    "G = nx.read_graphml(\"networks/playerNetwork_\"+ str(20501992) +\".graphml\")\n",
    "\n",
    "# Características globales e id\n",
    "ego_id = G.graph['ego_id']\n",
    "num_nodes = len(list(G.nodes()))\n",
    "\n",
    "# Elimino el ego\n",
    "G.remove_node(G.graph['ego_id'])\n",
    "\n",
    "# Partition Louvain\n",
    "partition = community.best_partition(G)\n",
    "num_communities = len(set(partition.values()))\n",
    "modularity = community.modularity(partition, G)    \n",
    "\n",
    "# Measures\n",
    "num_components = nx.number_connected_components(G)\n",
    "density = nx.density(G)\n",
    "node_coverage = len(list(G.nodes()))/(G.graph['total_matches']*4)\n",
    "\n",
    "# Giant component\n",
    "Gcc = sorted(nx.connected_component_subgraphs(G), key=len, reverse=True)\n",
    "G0 = Gcc[0]\n",
    "giant_component_coverage = len(list(G0.nodes()))/len(list(G.nodes()))\n",
    "\n",
    "# Avg Degree\n",
    "degrees = G.degree()\n",
    "sum_of_edges = 0\n",
    "for a, b in list(degrees):\n",
    "    sum_of_edges = sum_of_edges + b\n",
    "avg_degree = sum_of_edges/len(list(G.nodes()))\n",
    "\n",
    "# Betweenness Centrality (most important nodes)\n",
    "Gt, m = most_important(G)\n",
    "num_important_nodes = len(list(Gt))\n",
    "perc_important_nodes = len(list(Gt))/len(list(G.nodes()))\n",
    "mean_centrality = m\n",
    "\n",
    "\n",
    "list_records.append((ego_id, num_nodes, num_communities, modularity, num_components, density, \n",
    "                     node_coverage, giant_component_coverage, avg_degree, perc_important_nodes, mean_centrality))\n",
    "\n"
   ]
  },
  {
   "cell_type": "code",
   "execution_count": 4,
   "metadata": {},
   "outputs": [
    {
     "data": {
      "text/plain": [
       "[('20501992',\n",
       "  22,\n",
       "  3,\n",
       "  0.5382653061224489,\n",
       "  2,\n",
       "  0.19047619047619047,\n",
       "  0.75,\n",
       "  0.8095238095238095,\n",
       "  3.8095238095238093,\n",
       "  0.09523809523809523,\n",
       "  0.03609022556390978)]"
      ]
     },
     "execution_count": 4,
     "metadata": {},
     "output_type": "execute_result"
    }
   ],
   "source": [
    "list_records"
   ]
  },
  {
   "cell_type": "markdown",
   "metadata": {},
   "source": [
    "# Genero el random"
   ]
  },
  {
   "cell_type": "code",
   "execution_count": 5,
   "metadata": {},
   "outputs": [
    {
     "data": {
      "text/plain": [
       "DegreeView({'61521191': 3, '53037561': 7, '31113043': 10, '35773403': 3, '52662940': 3, '37945613': 3, '52493865': 3, '24658882': 3, '63986793': 3, '22003918': 3, '182419': 9, '40638373': 3, '25914000': 3, '24818653': 3, '21137760': 3, '50766893': 3, '37742947': 3, '44929492': 3, '37158550': 3, '33011554': 3, '52395740': 3})"
      ]
     },
     "execution_count": 5,
     "metadata": {},
     "output_type": "execute_result"
    }
   ],
   "source": [
    "G.degree()"
   ]
  },
  {
   "cell_type": "code",
   "execution_count": null,
   "metadata": {},
   "outputs": [],
   "source": []
  },
  {
   "cell_type": "code",
   "execution_count": null,
   "metadata": {},
   "outputs": [],
   "source": [
    "list_records = []\n",
    "for i in range(len(list_summoners)):\n",
    "    G = nx.read_graphml(\"networks/playerNetwork_\"+ str(list_summoners.index[i]) +\".graphml\")\n",
    "    \n",
    "    # Características globales e id\n",
    "    ego_id = G.graph['ego_id']\n",
    "    num_nodes = len(list(G.nodes()))\n",
    "    \n",
    "    # Elimino el ego\n",
    "    G.remove_node(G.graph['ego_id'])\n",
    "    \n",
    "    # Partition Louvain\n",
    "    partition = community.best_partition(G)\n",
    "    num_communities = len(set(partition.values()))\n",
    "    modularity = community.modularity(partition, G)    \n",
    "    \n",
    "    # Measures\n",
    "    num_components = nx.number_connected_components(G)\n",
    "    density = nx.density(G)\n",
    "    node_coverage = len(list(G.nodes()))/(G.graph['total_matches']*4)\n",
    "    \n",
    "    # Giant component\n",
    "    Gcc = sorted(nx.connected_component_subgraphs(G), key=len, reverse=True)\n",
    "    G0 = Gcc[0]\n",
    "    giant_component_coverage = len(list(G0.nodes()))/len(list(G.nodes()))\n",
    "    \n",
    "    # Avg Degree\n",
    "    degrees = G.degree()\n",
    "    sum_of_edges = 0\n",
    "    for a, b in list(degrees):\n",
    "        sum_of_edges = sum_of_edges + b\n",
    "    avg_degree = sum_of_edges/len(list(G.nodes()))\n",
    "    \n",
    "    # Betweenness Centrality (most important nodes)\n",
    "    Gt, m = most_important(G)\n",
    "    num_important_nodes = len(list(Gt))\n",
    "    perc_important_nodes = len(list(Gt))/len(list(G.nodes()))\n",
    "    mean_centrality = m\n",
    "    \n",
    "    \n",
    "    list_records.append((ego_id, num_nodes, num_communities, modularity, num_components, density, \n",
    "                         node_coverage, giant_component_coverage, avg_degree, perc_important_nodes, mean_centrality))\n",
    "    \n",
    "    "
   ]
  }
 ],
 "metadata": {
  "kernelspec": {
   "display_name": "Python 3",
   "language": "python",
   "name": "python3"
  },
  "language_info": {
   "codemirror_mode": {
    "name": "ipython",
    "version": 3
   },
   "file_extension": ".py",
   "mimetype": "text/x-python",
   "name": "python",
   "nbconvert_exporter": "python",
   "pygments_lexer": "ipython3",
   "version": "3.6.3"
  }
 },
 "nbformat": 4,
 "nbformat_minor": 2
}
