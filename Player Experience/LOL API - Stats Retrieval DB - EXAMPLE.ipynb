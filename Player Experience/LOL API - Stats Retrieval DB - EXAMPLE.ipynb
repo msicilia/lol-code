{
 "cells": [
  {
   "cell_type": "code",
   "execution_count": 1,
   "metadata": {
    "collapsed": true,
    "scrolled": true
   },
   "outputs": [],
   "source": [
    "#basics -> imports and apikey\n",
    "import json\n",
    "import requests as rq\n",
    "import pandas as pd\n",
    "import time\n",
    "\n",
    "apikey = 'YOUR API KEY'"
   ]
  },
  {
   "cell_type": "markdown",
   "metadata": {},
   "source": [
    "### I'm just using an excel table where I have the list of summoner names"
   ]
  },
  {
   "cell_type": "code",
   "execution_count": null,
   "metadata": {
    "scrolled": true
   },
   "outputs": [],
   "source": [
    "list_summoners = pd.read_excel('LVPSummoner.xlsx',\n",
    "                      sheetname = 'table_output',\n",
    "                      header = 0,\n",
    "                      index_col = 0,\n",
    "                      parse_cols = \"A, B\",\n",
    "                      convert_float = True)\n",
    "\n",
    "#check what was actually extracted into the table\n",
    "print list_summoners.head()\n",
    "print list_summoners.count()"
   ]
  },
  {
   "cell_type": "markdown",
   "metadata": {},
   "source": [
    "### I use PyMongo (for storing into MongoDB), but if you don't want to store you can skip anything DB related."
   ]
  },
  {
   "cell_type": "code",
   "execution_count": 4,
   "metadata": {
    "collapsed": true,
    "scrolled": true
   },
   "outputs": [],
   "source": [
    "import pymongo\n",
    "from pymongo import MongoClient\n",
    "client = MongoClient()"
   ]
  },
  {
   "cell_type": "code",
   "execution_count": 5,
   "metadata": {
    "collapsed": true,
    "scrolled": true
   },
   "outputs": [],
   "source": [
    "db = client.lol_stats_db\n",
    "collection = db.summoner_stats"
   ]
  },
  {
   "cell_type": "markdown",
   "metadata": {},
   "source": [
    "### Old code, as you can see. API version 2.2 still ;)"
   ]
  },
  {
   "cell_type": "code",
   "execution_count": 7,
   "metadata": {
    "scrolled": true
   },
   "outputs": [
    {
     "data": {
      "text/plain": [
       "200"
      ]
     },
     "execution_count": 7,
     "metadata": {},
     "output_type": "execute_result"
    }
   ],
   "source": [
    "#test with i=0\n",
    "r = rq.get('https://euw.api.pvp.net/api/lol/euw/v1.3/stats/by-summoner/' +str(list_summoners.index[0])+\n",
    "           '/summary?season=SEASON2016&api_key=' + apikey)\n",
    "#check response code \n",
    "r.status_code"
   ]
  },
  {
   "cell_type": "code",
   "execution_count": 9,
   "metadata": {
    "scrolled": true
   },
   "outputs": [
    {
     "data": {
      "text/plain": [
       "True"
      ]
     },
     "execution_count": 9,
     "metadata": {},
     "output_type": "execute_result"
    }
   ],
   "source": [
    "(r.status_code == 200)"
   ]
  },
  {
   "cell_type": "markdown",
   "metadata": {},
   "source": [
    "### Insert into database"
   ]
  },
  {
   "cell_type": "markdown",
   "metadata": {},
   "source": [
    "### Id=0 for testing"
   ]
  },
  {
   "cell_type": "code",
   "execution_count": null,
   "metadata": {
    "scrolled": true
   },
   "outputs": [],
   "source": [
    "#insert into database\n",
    "###result = db.match_list_2016_5x5.remove({ \"_id\": str(list_summoners.index[0])})\n",
    "result = db.summoner_stats.insert_one({ \"_id\": str(list_summoners.index[0]), \"stats\": json.loads(r.text)} )\n",
    "print result.inserted_id"
   ]
  },
  {
   "cell_type": "markdown",
   "metadata": {},
   "source": [
    "### Retrieve stats (for example)"
   ]
  },
  {
   "cell_type": "code",
   "execution_count": 11,
   "metadata": {
    "scrolled": true
   },
   "outputs": [],
   "source": [
    "#let's get all stats for each summoner in SEASON 2016\n",
    "i = 1\n",
    "while i < len(list_summoners.index):  \n",
    "    ##result = db.match_list_2016_5x5.remove({ \"_id\": str(list_summoners.index[i])})\n",
    "    #get all matches for a summoner id\n",
    "    #WARNING: let's do only one request every two seconds\n",
    "    r = rq.get('https://euw.api.pvp.net/api/lol/euw/v1.3/stats/by-summoner/' +str(list_summoners.index[i])+\n",
    "           '/summary?season=SEASON2016&api_key=' + apikey)\n",
    "    #check response code\n",
    "    while (r.status_code <> 200):\n",
    "        time.sleep(4)\n",
    "        r = rq.get('https://euw.api.pvp.net/api/lol/euw/v1.3/stats/by-summoner/' +str(list_summoners.index[i])+\n",
    "           '/summary?season=SEASON2016&api_key=' + apikey)\n",
    "    result = db.summoner_stats.insert_one({ \"_id\": str(list_summoners.index[i]), \"stats\": json.loads(r.text)} )\n",
    "    #insert into stats (contains all stats per summoner in season 16)\n",
    "    #the summoner ID as DB Key    \n",
    "    #increase and wait    \n",
    "    i = i + 1\n",
    "    time.sleep(1)"
   ]
  },
  {
   "cell_type": "markdown",
   "metadata": {},
   "source": [
    "### Each API response was stored into a MongoDB above; below I just retrieve an individual instance and then, using the JSON structure, I test a few variables."
   ]
  },
  {
   "cell_type": "code",
   "execution_count": 27,
   "metadata": {
    "scrolled": true
   },
   "outputs": [
    {
     "name": "stdout",
     "output_type": "stream",
     "text": [
      "True\n",
      "6022\n",
      "OK\n"
     ]
    }
   ],
   "source": [
    "cursor = db.summoner_stats.find({\"_id\": str(list_summoners.index[0])})\n",
    "for document in cursor:\n",
    "    print document['stats']['playerStatSummaries'][0]['playerStatSummaryType']  == 'AramUnranked5x5'\n",
    "    print document['stats']['playerStatSummaries'][0]['aggregatedStats']['totalChampionKills']\n",
    "    \n",
    "if (document['stats']['playerStatSummaries'][0]['aggregatedStats']):\n",
    "    print \"OK\""
   ]
  },
  {
   "cell_type": "markdown",
   "metadata": {},
   "source": [
    "### Let's extract all (wanted) stats per summoner. This is using the JSON from the Mongo Database, but you could feed the API response directly. But, honestly, it is better to have a middle DB; this way you can run the query (it can take long) and do the analysis much later without worrying."
   ]
  },
  {
   "cell_type": "code",
   "execution_count": 28,
   "metadata": {
    "scrolled": true
   },
   "outputs": [
    {
     "name": "stdout",
     "output_type": "stream",
     "text": [
      "440\n",
      "440\n",
      "440\n"
     ]
    }
   ],
   "source": [
    "#we want wins from 'RankedFlexSR', 'Unranked'\n",
    "#wins and losses from 'RankedSolo5x5', 'RankedTeam5x5'\n",
    "#and total wins per summoner\n",
    "\n",
    "\n",
    "i=0\n",
    "summoner_list = []\n",
    "total_wins = []\n",
    "total_ranked_wins = []\n",
    "total_ranked_losses = []\n",
    "total_ranked_kills = []\n",
    "total_ranked_assists = []\n",
    "\n",
    "while (i<len(list_summoners)):\n",
    "    cursor = db.summoner_stats.find({\"_id\": str(list_summoners.index[i])})\n",
    "    for document in cursor:\n",
    "        summoner_list.append(document['_id'])\n",
    "        wins = 0\n",
    "        ranked_wins = 0\n",
    "        ranked_losses = 0\n",
    "        ranked_kills = 0\n",
    "        ranked_assists = 0\n",
    "        j=0\n",
    "        while (j<len(document['stats']['playerStatSummaries'])):\n",
    "            queue = document['stats']['playerStatSummaries'][j]['playerStatSummaryType']\n",
    "            if (queue == 'RankedFlexSR' or queue == 'Unranked'):\n",
    "                wins = wins + document['stats']['playerStatSummaries'][j]['wins']\n",
    "            elif (queue == 'RankedSolo5x5' or queue == 'RankedTeam5x5'):\n",
    "                wins = wins + document['stats']['playerStatSummaries'][j]['wins']\n",
    "                ranked_wins = ranked_wins + document['stats']['playerStatSummaries'][j]['wins']\n",
    "                ranked_losses = ranked_losses + document['stats']['playerStatSummaries'][j]['losses']\n",
    "                #check whether list is empty\n",
    "                if (document['stats']['playerStatSummaries'][j]['aggregatedStats']):\n",
    "                    ranked_kills = ranked_kills + document['stats']['playerStatSummaries'][j]['aggregatedStats']['totalChampionKills']\n",
    "                    ranked_assists = ranked_assists + document['stats']['playerStatSummaries'][j]['aggregatedStats']['totalAssists']\n",
    "                else:\n",
    "                    ranked_kills = ranked_kills + 0\n",
    "                    ranked_assists = ranked_assists + 0\n",
    "            j=j+1\n",
    "        total_wins.append(wins)\n",
    "        total_ranked_wins.append(ranked_wins)\n",
    "        total_ranked_losses.append(ranked_losses)\n",
    "        total_ranked_kills.append(ranked_kills)\n",
    "        total_ranked_assists.append(ranked_assists) \n",
    "    i=i+1\n",
    "        \n",
    "print len(summoner_list)\n",
    "print len(total_wins)\n",
    "print len(total_ranked_assists)"
   ]
  },
  {
   "cell_type": "markdown",
   "metadata": {},
   "source": [
    "### Above I only added all the \"wanted\" variables to five different lists. From these ordered lists (and the ID) I'll build a pandas dataframe easily:"
   ]
  },
  {
   "cell_type": "code",
   "execution_count": 30,
   "metadata": {
    "collapsed": true,
    "scrolled": true
   },
   "outputs": [],
   "source": [
    "d = {'SummonerID' : summoner_list,'totalWins' : total_wins, 'totalRankedWins' : total_ranked_wins,\n",
    "     'totalRankedLosses' : total_ranked_losses, 'totalRankedKills' : total_ranked_kills,\n",
    "     'totalRankedAssists' : total_ranked_assists}\n",
    "table_summoner_stats = pd.DataFrame(d)"
   ]
  },
  {
   "cell_type": "markdown",
   "metadata": {},
   "source": [
    "### An then you can save it to any desired format; here, it was excel, but CSV should be even simpler."
   ]
  },
  {
   "cell_type": "code",
   "execution_count": 32,
   "metadata": {
    "collapsed": true,
    "scrolled": true
   },
   "outputs": [],
   "source": [
    "#Now, let's move this to an excel file\n",
    "\n",
    "# Create a Pandas Excel writer using XlsxWriter as the engine.\n",
    "writer = pd.ExcelWriter('SummonerStats.xlsx', engine='xlsxwriter')\n",
    "# Convert the dataframe to an XlsxWriter Excel object.\n",
    "table_summoner_stats.to_excel(writer, sheet_name='table_summoner_stats')\n",
    "# Close the Pandas Excel writer and output the Excel file.\n",
    "writer.save()"
   ]
  },
  {
   "cell_type": "code",
   "execution_count": null,
   "metadata": {
    "collapsed": true,
    "scrolled": true
   },
   "outputs": [],
   "source": []
  }
 ],
 "metadata": {
  "kernelspec": {
   "display_name": "Python 3",
   "language": "python",
   "name": "python3"
  },
  "language_info": {
   "codemirror_mode": {
    "name": "ipython",
    "version": 3
   },
   "file_extension": ".py",
   "mimetype": "text/x-python",
   "name": "python",
   "nbconvert_exporter": "python",
   "pygments_lexer": "ipython3",
   "version": "3.6.3"
  }
 },
 "nbformat": 4,
 "nbformat_minor": 1
}
