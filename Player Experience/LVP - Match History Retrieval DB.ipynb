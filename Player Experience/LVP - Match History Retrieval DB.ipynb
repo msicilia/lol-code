{
 "cells": [
  {
   "cell_type": "code",
   "execution_count": 1,
   "metadata": {
    "collapsed": true
   },
   "outputs": [],
   "source": [
    "#basics -> imports and apikey\n",
    "import json\n",
    "import requests as rq\n",
    "import pandas as pd\n",
    "import time\n",
    "\n",
    "apikey = '9c594b29-ad69-4833-b88b-db5cdfa30683'"
   ]
  },
  {
   "cell_type": "code",
   "execution_count": 2,
   "metadata": {},
   "outputs": [
    {
     "name": "stdout",
     "output_type": "stream",
     "text": [
      "                  A_Summoner\n",
      "Summoner ID                 \n",
      "19459077           nuskineta\n",
      "20501992     huevodestructor\n",
      "23407188           pitterman\n",
      "27281117             ajrking\n",
      "28306135      marcodiazlocos\n",
      "A_Summoner    440\n",
      "dtype: int64\n"
     ]
    }
   ],
   "source": [
    "list_summoners = pd.read_excel('LVPSummoner.xlsx',\n",
    "                      sheetname = 'table_output',\n",
    "                      header = 0,\n",
    "                      index_col = 0,\n",
    "                      parse_cols = \"A, B\",\n",
    "                      convert_float = True)\n",
    "\n",
    "#check what was actually extracted into the table\n",
    "print list_summoners.head()\n",
    "print list_summoners.count()"
   ]
  },
  {
   "cell_type": "code",
   "execution_count": 3,
   "metadata": {},
   "outputs": [
    {
     "data": {
      "text/plain": [
       "19459077"
      ]
     },
     "execution_count": 3,
     "metadata": {},
     "output_type": "execute_result"
    }
   ],
   "source": [
    "list_summoners.index[0]"
   ]
  },
  {
   "cell_type": "code",
   "execution_count": 4,
   "metadata": {
    "collapsed": true
   },
   "outputs": [],
   "source": [
    "import pymongo\n",
    "from pymongo import MongoClient\n",
    "client = MongoClient()"
   ]
  },
  {
   "cell_type": "code",
   "execution_count": 5,
   "metadata": {
    "collapsed": true
   },
   "outputs": [],
   "source": [
    "db = client.lol_match_db\n",
    "collection = db.match_list_2016_5x5"
   ]
  },
  {
   "cell_type": "code",
   "execution_count": 31,
   "metadata": {
    "collapsed": true
   },
   "outputs": [],
   "source": [
    "## Query MATCHLIST\n",
    "#https://euw.api.pvp.net/api/lol/euw/v2.2/matchlist/by-summoner/230016?rankedQueues=\n",
    "#RANKED_SOLO_5x5,RANKED_TEAM_5x5&seasons=PRESEASON2015,SEASON2015,PRESEASON2016,SEASON2016\n",
    "#&api_key=9c594b29-ad69-4833-b88b-db5cdfa30683\n",
    "\n",
    "## Query MATCH\n",
    "#https://euw.api.pvp.net/api/lol/euw/v2.2/match/2216416155?includeTimeline=TRUE&api_key=9c594b29-ad69-4833-b88b-db5cdfa30683\n"
   ]
  },
  {
   "cell_type": "code",
   "execution_count": 65,
   "metadata": {},
   "outputs": [
    {
     "data": {
      "text/plain": [
       "440"
      ]
     },
     "execution_count": 65,
     "metadata": {},
     "output_type": "execute_result"
    }
   ],
   "source": [
    "len(list_summoners.index)"
   ]
  },
  {
   "cell_type": "code",
   "execution_count": 7,
   "metadata": {},
   "outputs": [],
   "source": [
    "import sys\n",
    "filename  = open(\"log_match_history_2016.txt\",'w')\n",
    "sys.stdout = filename\n",
    "print \"RESPONSES\""
   ]
  },
  {
   "cell_type": "code",
   "execution_count": 8,
   "metadata": {},
   "outputs": [
    {
     "data": {
      "text/plain": [
       "200"
      ]
     },
     "execution_count": 8,
     "metadata": {},
     "output_type": "execute_result"
    }
   ],
   "source": [
    "#test with i=0\n",
    "result = db.match_list_2016.remove({ \"_id\": str(list_summoners.index[0])})\n",
    "r = rq.get('https://euw.api.pvp.net/api/lol/euw/v2.2/matchlist/by-summoner/' +str(list_summoners.index[0])+\n",
    "           '?rankedQueues=TEAM_BUILDER_DRAFT_RANKED_5x5,RANKED_SOLO_5x5,RANKED_TEAM_5x5,RANKED_FLEX_SR&seasons=PRESEASON2016,SEASON2016&api_key=' + apikey)\n",
    "#check response code \n",
    "r.status_code"
   ]
  },
  {
   "cell_type": "code",
   "execution_count": 9,
   "metadata": {},
   "outputs": [
    {
     "data": {
      "text/plain": [
       "19459077"
      ]
     },
     "execution_count": 9,
     "metadata": {},
     "output_type": "execute_result"
    }
   ],
   "source": [
    "list_summoners.index[0]"
   ]
  },
  {
   "cell_type": "code",
   "execution_count": 10,
   "metadata": {},
   "outputs": [
    {
     "data": {
      "text/plain": [
       "True"
      ]
     },
     "execution_count": 10,
     "metadata": {},
     "output_type": "execute_result"
    }
   ],
   "source": [
    "(r.status_code == 200)"
   ]
  },
  {
   "cell_type": "code",
   "execution_count": 11,
   "metadata": {},
   "outputs": [],
   "source": [
    "#insert into database\n",
    "###result = db.match_list_2016_5x5.remove({ \"_id\": str(list_summoners.index[0])})\n",
    "result = db.match_list_2016_5x5.insert_one({ \"_id\": str(list_summoners.index[0]), \"matches\": json.loads(r.text)} )\n",
    "print result.inserted_id"
   ]
  },
  {
   "cell_type": "code",
   "execution_count": null,
   "metadata": {},
   "outputs": [],
   "source": [
    "#check result in the DB\n",
    "#cursor = db.match_list_2016.find({\"_id\": str(list_summoners.index[0])})\n",
    "#for document in cursor:\n",
    "#    print(document)"
   ]
  },
  {
   "cell_type": "code",
   "execution_count": 12,
   "metadata": {},
   "outputs": [],
   "source": [
    "#let's get all matches for each summoner in SEASON 2016\n",
    "i = 1\n",
    "while i < len(list_summoners.index):  \n",
    "    ##result = db.match_list_2016_5x5.remove({ \"_id\": str(list_summoners.index[i])})\n",
    "    #get all matches for a summoner id\n",
    "    #WARNING: let's do only one request every two seconds\n",
    "    r = rq.get('https://euw.api.pvp.net/api/lol/euw/v2.2/matchlist/by-summoner/' +str(list_summoners.index[i])+\n",
    "           '?rankedQueues=TEAM_BUILDER_DRAFT_RANKED_5x5,RANKED_SOLO_5x5,RANKED_TEAM_5x5,RANKED_FLEX_SR&seasons=PRESEASON2016,SEASON2016&api_key=' + apikey)\n",
    "    #check response code\n",
    "    while (r.status_code <> 200):\n",
    "        time.sleep(4)\n",
    "        r = rq.get('https://euw.api.pvp.net/api/lol/euw/v2.2/matchlist/by-summoner/' +str(list_summoners.index[i])+\n",
    "           '?rankedQueues=TEAM_BUILDER_DRAFT_RANKED_5x5,RANKED_SOLO_5x5,RANKED_TEAM_5x5,RANKED_FLEX_SR&seasons=PRESEASON2016,SEASON2016&api_key=' + apikey)\n",
    "        \n",
    "    print str(list_summoners.index[i]) +' '+ str(r.status_code)\n",
    "    result = db.match_list_2016_5x5.insert_one({ \"_id\": str(list_summoners.index[i]), \"matches\": json.loads(r.text)} )\n",
    "    print 'Inserted at:' + result.inserted_id\n",
    "    #insert into match_list_2016(contains all matches for Season 2016 for any particular summoner) using\n",
    "    #the summoner ID as DB Key    \n",
    "    #increase and wait    \n",
    "    i = i + 1\n",
    "    time.sleep(2)"
   ]
  },
  {
   "cell_type": "code",
   "execution_count": null,
   "metadata": {
    "collapsed": true
   },
   "outputs": [],
   "source": [
    "#for the left behind (errors)\n",
    "#r = rq.get('https://euw.api.pvp.net/api/lol/euw/v2.2/matchlist/by-summoner/' +'56278113'+\n",
    "#           '?rankedQueues=TEAM_BUILDER_DRAFT_RANKED_5x5,RANKED_SOLO_5x5,RANKED_TEAM_3x3,RANKED_TEAM_5x5,RANKED_FLEX_SR&seasons=PRESEASON2016,SEASON2016&api_key=' + apikey)\n",
    "###check response code \n",
    "#print r.status_code\n",
    "#result = db.match_list_2016.remove({ \"_id\": '56278113'})\n",
    "#result = db.match_list_2016.insert_one({ \"_id\": '56278113', \"matches\": json.loads(r.text)} )\n",
    "#print result.inserted_id\n"
   ]
  },
  {
   "cell_type": "code",
   "execution_count": 85,
   "metadata": {
    "collapsed": true
   },
   "outputs": [],
   "source": [
    "print type (r.text)"
   ]
  },
  {
   "cell_type": "code",
   "execution_count": 86,
   "metadata": {
    "collapsed": true
   },
   "outputs": [],
   "source": [
    "print type (json.loads(r.text))"
   ]
  },
  {
   "cell_type": "code",
   "execution_count": null,
   "metadata": {
    "collapsed": true
   },
   "outputs": [],
   "source": []
  }
 ],
 "metadata": {
  "kernelspec": {
   "display_name": "Python 3",
   "language": "python",
   "name": "python3"
  },
  "language_info": {
   "codemirror_mode": {
    "name": "ipython",
    "version": 3
   },
   "file_extension": ".py",
   "mimetype": "text/x-python",
   "name": "python",
   "nbconvert_exporter": "python",
   "pygments_lexer": "ipython3",
   "version": "3.6.3"
  }
 },
 "nbformat": 4,
 "nbformat_minor": 1
}
