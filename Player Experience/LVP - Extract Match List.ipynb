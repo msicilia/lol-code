{
 "cells": [
  {
   "cell_type": "code",
   "execution_count": 1,
   "metadata": {
    "collapsed": true
   },
   "outputs": [],
   "source": [
    "import json\n",
    "import requests as rq\n",
    "import pandas as pd\n",
    "import time\n",
    "\n",
    "apikey = '9c594b29-ad69-4833-b88b-db5cdfa30683'\n",
    "apikey2= '12504de4-1fe7-4700-90ff-13336ef9cc2a'\n",
    "\n",
    "import pymongo\n",
    "from pymongo import MongoClient\n",
    "client = MongoClient()\n",
    "db = client.lol_match_db\n",
    "collection = db.match_list_2016_5x5"
   ]
  },
  {
   "cell_type": "code",
   "execution_count": 10,
   "metadata": {},
   "outputs": [
    {
     "data": {
      "text/plain": [
       "440"
      ]
     },
     "execution_count": 10,
     "metadata": {},
     "output_type": "execute_result"
    }
   ],
   "source": [
    "list_summoners = pd.read_excel('LVPSummoner.xlsx',\n",
    "                      sheetname = 'table_output',\n",
    "                      header = 0,\n",
    "                      index_col = 0,\n",
    "                      parse_cols = \"A\",\n",
    "                      convert_float = True)\n",
    "len(list_summoners)"
   ]
  },
  {
   "cell_type": "code",
   "execution_count": 11,
   "metadata": {},
   "outputs": [
    {
     "name": "stdout",
     "output_type": "stream",
     "text": [
      "19459077\n"
     ]
    }
   ],
   "source": [
    "print list_summoners.index[0]"
   ]
  },
  {
   "cell_type": "code",
   "execution_count": 25,
   "metadata": {},
   "outputs": [
    {
     "name": "stdout",
     "output_type": "stream",
     "text": [
      "69\n"
     ]
    }
   ],
   "source": [
    "cursor = db.match_list_2016_5x5.find({\"_id\": str(list_summoners.index[0])})\n",
    "for document in cursor:\n",
    "    print document['matches']['totalGames']"
   ]
  },
  {
   "cell_type": "code",
   "execution_count": 18,
   "metadata": {},
   "outputs": [
    {
     "name": "stdout",
     "output_type": "stream",
     "text": [
      "440\n",
      "440\n",
      "228117\n"
     ]
    }
   ],
   "source": [
    "i=0\n",
    "summoner_list = []\n",
    "number_matches = []\n",
    "match_id_list = []\n",
    "\n",
    "while (i<len(list_summoners)):\n",
    "    cursor = db.match_list_2016_5x5.find({\"_id\": str(list_summoners.index[i])})\n",
    "    for document in cursor:\n",
    "        summoner_list.append(document['_id'])\n",
    "        number_matches.append(document['matches']['totalGames'])\n",
    "        j=0\n",
    "        while (j<document['matches']['totalGames']):\n",
    "            match_id_list.append(str(document['matches']['matches'][j]['matchId']))\n",
    "            j=j+1\n",
    "    i=i+1\n",
    "        \n",
    "print len(summoner_list)\n",
    "print len(number_matches)\n",
    "print len(match_id_list)\n"
   ]
  },
  {
   "cell_type": "code",
   "execution_count": 20,
   "metadata": {},
   "outputs": [],
   "source": [
    "d = {'SummonerID' : summoner_list,'totalGames' : number_matches}\n",
    "table_summoner_totalgames = pd.DataFrame(d)"
   ]
  },
  {
   "cell_type": "code",
   "execution_count": 26,
   "metadata": {},
   "outputs": [
    {
     "data": {
      "text/html": [
       "<div>\n",
       "<table border=\"1\" class=\"dataframe\">\n",
       "  <thead>\n",
       "    <tr style=\"text-align: right;\">\n",
       "      <th></th>\n",
       "      <th>SummonerID</th>\n",
       "      <th>totalGames</th>\n",
       "    </tr>\n",
       "  </thead>\n",
       "  <tbody>\n",
       "    <tr>\n",
       "      <th>0</th>\n",
       "      <td>19459077</td>\n",
       "      <td>69</td>\n",
       "    </tr>\n",
       "    <tr>\n",
       "      <th>1</th>\n",
       "      <td>20501992</td>\n",
       "      <td>7</td>\n",
       "    </tr>\n",
       "    <tr>\n",
       "      <th>2</th>\n",
       "      <td>23407188</td>\n",
       "      <td>206</td>\n",
       "    </tr>\n",
       "    <tr>\n",
       "      <th>3</th>\n",
       "      <td>27281117</td>\n",
       "      <td>37</td>\n",
       "    </tr>\n",
       "    <tr>\n",
       "      <th>4</th>\n",
       "      <td>28306135</td>\n",
       "      <td>111</td>\n",
       "    </tr>\n",
       "  </tbody>\n",
       "</table>\n",
       "</div>"
      ],
      "text/plain": [
       "  SummonerID  totalGames\n",
       "0   19459077          69\n",
       "1   20501992           7\n",
       "2   23407188         206\n",
       "3   27281117          37\n",
       "4   28306135         111"
      ]
     },
     "execution_count": 26,
     "metadata": {},
     "output_type": "execute_result"
    }
   ],
   "source": [
    "table_summoner_totalgames.head()"
   ]
  },
  {
   "cell_type": "code",
   "execution_count": 28,
   "metadata": {},
   "outputs": [
    {
     "data": {
      "text/html": [
       "<div>\n",
       "<table border=\"1\" class=\"dataframe\">\n",
       "  <thead>\n",
       "    <tr style=\"text-align: right;\">\n",
       "      <th></th>\n",
       "      <th>0</th>\n",
       "    </tr>\n",
       "  </thead>\n",
       "  <tbody>\n",
       "    <tr>\n",
       "      <th>0</th>\n",
       "      <td>2853586095</td>\n",
       "    </tr>\n",
       "    <tr>\n",
       "      <th>1</th>\n",
       "      <td>2807676541</td>\n",
       "    </tr>\n",
       "    <tr>\n",
       "      <th>2</th>\n",
       "      <td>2807350386</td>\n",
       "    </tr>\n",
       "    <tr>\n",
       "      <th>3</th>\n",
       "      <td>2804711583</td>\n",
       "    </tr>\n",
       "    <tr>\n",
       "      <th>4</th>\n",
       "      <td>2795203055</td>\n",
       "    </tr>\n",
       "  </tbody>\n",
       "</table>\n",
       "</div>"
      ],
      "text/plain": [
       "            0\n",
       "0  2853586095\n",
       "1  2807676541\n",
       "2  2807350386\n",
       "3  2804711583\n",
       "4  2795203055"
      ]
     },
     "execution_count": 28,
     "metadata": {},
     "output_type": "execute_result"
    }
   ],
   "source": [
    "table_match_id_list = pd.DataFrame(match_id_list)\n",
    "table_match_id_list.head()"
   ]
  },
  {
   "cell_type": "code",
   "execution_count": 27,
   "metadata": {
    "collapsed": true
   },
   "outputs": [],
   "source": [
    "#IT WORKS!\n",
    "#Now, let's move this to an excel file\n",
    "\n",
    "# Create a Pandas Excel writer using XlsxWriter as the engine.\n",
    "writer = pd.ExcelWriter('SummonerTotalGames.xlsx', engine='xlsxwriter')\n",
    "# Convert the dataframe to an XlsxWriter Excel object.\n",
    "table_summoner_totalgames.to_excel(writer, sheet_name='table_summoner_totalgames')\n",
    "# Close the Pandas Excel writer and output the Excel file.\n",
    "writer.save()"
   ]
  },
  {
   "cell_type": "code",
   "execution_count": 29,
   "metadata": {
    "collapsed": true
   },
   "outputs": [],
   "source": [
    "# Create a Pandas Excel writer using XlsxWriter as the engine.\n",
    "writer = pd.ExcelWriter('MatchIDList.xlsx', engine='xlsxwriter')\n",
    "# Convert the dataframe to an XlsxWriter Excel object.\n",
    "table_match_id_list.to_excel(writer, sheet_name='match_id_list')\n",
    "# Close the Pandas Excel writer and output the Excel file.\n",
    "writer.save()"
   ]
  },
  {
   "cell_type": "markdown",
   "metadata": {},
   "source": [
    "# A PARTIR D'AQUÍ ÉS PER RETRIEVE MATCH DATA"
   ]
  },
  {
   "cell_type": "code",
   "execution_count": 9,
   "metadata": {},
   "outputs": [
    {
     "name": "stdout",
     "output_type": "stream",
     "text": [
      "{u'matches': [{u'lane': u'BOTTOM', u'champion': 81, u'platformId': u'EUW1', u'season': u'SEASON2016', u'region': u'EUW', u'matchId': 2556336889L, u'queue': u'TEAM_BUILDER_DRAFT_RANKED_5x5', u'role': u'DUO_CARRY', u'timestamp': 1457636026933L}, {u'lane': u'BOTTOM', u'champion': 12, u'platformId': u'EUW1', u'season': u'SEASON2016', u'region': u'EUW', u'matchId': 2556239142L, u'queue': u'TEAM_BUILDER_DRAFT_RANKED_5x5', u'role': u'DUO_SUPPORT', u'timestamp': 1457631940432L}, {u'lane': u'BOTTOM', u'champion': 40, u'platformId': u'EUW1', u'season': u'SEASON2016', u'region': u'EUW', u'matchId': 2543767303L, u'queue': u'TEAM_BUILDER_DRAFT_RANKED_5x5', u'role': u'DUO_SUPPORT', u'timestamp': 1456938853896L}, {u'lane': u'BOTTOM', u'champion': 25, u'platformId': u'EUW1', u'season': u'SEASON2016', u'region': u'EUW', u'matchId': 2526397764L, u'queue': u'TEAM_BUILDER_DRAFT_RANKED_5x5', u'role': u'DUO_SUPPORT', u'timestamp': 1455841269661L}, {u'lane': u'MID', u'champion': 134, u'platformId': u'EUW1', u'season': u'SEASON2016', u'region': u'EUW', u'matchId': 2526413068L, u'queue': u'TEAM_BUILDER_DRAFT_RANKED_5x5', u'role': u'SOLO', u'timestamp': 1455838144248L}, {u'lane': u'BOTTOM', u'champion': 18, u'platformId': u'EUW1', u'season': u'SEASON2016', u'region': u'EUW', u'matchId': 2517103561L, u'queue': u'TEAM_BUILDER_DRAFT_RANKED_5x5', u'role': u'DUO_CARRY', u'timestamp': 1455229707873L}, {u'lane': u'BOTTOM', u'champion': 89, u'platformId': u'EUW1', u'season': u'SEASON2016', u'region': u'EUW', u'matchId': 2496294474L, u'queue': u'TEAM_BUILDER_DRAFT_RANKED_5x5', u'role': u'DUO_SUPPORT', u'timestamp': 1454014414068L}], u'endIndex': 7, u'startIndex': 0, u'totalGames': 7}\n"
     ]
    }
   ],
   "source": []
  },
  {
   "cell_type": "code",
   "execution_count": 10,
   "metadata": {},
   "outputs": [
    {
     "data": {
      "text/plain": [
       "7"
      ]
     },
     "execution_count": 10,
     "metadata": {},
     "output_type": "execute_result"
    }
   ],
   "source": [
    "len(document['matches']['matches'])"
   ]
  },
  {
   "cell_type": "code",
   "execution_count": 11,
   "metadata": {},
   "outputs": [
    {
     "data": {
      "text/plain": [
       "2556239142L"
      ]
     },
     "execution_count": 11,
     "metadata": {},
     "output_type": "execute_result"
    }
   ],
   "source": [
    "document['matches']['matches'][1]['matchId']"
   ]
  },
  {
   "cell_type": "code",
   "execution_count": 15,
   "metadata": {},
   "outputs": [
    {
     "data": {
      "text/plain": [
       "'2556239142'"
      ]
     },
     "execution_count": 15,
     "metadata": {},
     "output_type": "execute_result"
    }
   ],
   "source": [
    "str(document['matches']['matches'][1]['matchId'])"
   ]
  },
  {
   "cell_type": "code",
   "execution_count": 22,
   "metadata": {},
   "outputs": [],
   "source": [
    "import sys\n",
    "filename  = open(\"log_match_details.txt\",'w')\n",
    "sys.stdout = filename\n",
    "print \"RESPONSES\""
   ]
  },
  {
   "cell_type": "code",
   "execution_count": 29,
   "metadata": {},
   "outputs": [
    {
     "data": {
      "text/plain": [
       "u'{\\n\\t\"status\": {\\n\\t\\t\"message\": \"429\",\\n\\t\\t\"status_code\": 429\\n\\t}\\n}'"
      ]
     },
     "execution_count": 29,
     "metadata": {},
     "output_type": "execute_result"
    }
   ],
   "source": [
    "r = rq.get('https://euw.api.pvp.net/api/lol/euw/v2.2/match/' +str(document['matches']['matches'][1]['matchId'])+'?includeTimeline=TRUE&api_key=' + apikey)\n",
    "r.text"
   ]
  },
  {
   "cell_type": "code",
   "execution_count": 32,
   "metadata": {},
   "outputs": [],
   "source": [
    "#retrieve matches\n",
    "i=0\n",
    "while i < len(document['matches']['matches']):  \n",
    "    #just for updates\n",
    "    print i\n",
    "    result = db.match_details_test.remove({ \"_id\": str(document['matches']['matches'][i]['matchId'])})\n",
    "    \n",
    "    #get all matches for a summoner id\n",
    "    #WARNING: let's do only one request every two seconds\n",
    "    r = rq.get('https://euw.api.pvp.net/api/lol/euw/v2.2/match/' +str(document['matches']['matches'][i]['matchId'])+'?includeTimeline=TRUE&api_key=' + apikey)\n",
    "    #check response code\n",
    "    while (r.status_code <> 200):\n",
    "        time.sleep(4)\n",
    "        r = rq.get('https://euw.api.pvp.net/api/lol/euw/v2.2/match/' +str(document['matches']['matches'][i]['matchId'])+'?includeTimeline=TRUE&api_key=' + apikey)\n",
    "        \n",
    "    print str(document['matches']['matches'][1]['matchId']) +' '+ str(r.status_code)\n",
    "    result = db.match_details_test.insert_one({\"_id\": str(document['matches']['matches'][i]['matchId']), \"details\":json.loads(r.text)})\n",
    "    print 'Inserted at:' + result.inserted_id\n",
    "    #insert into match_list_2016(contains all matches for Season 2016 for any particular summoner) using\n",
    "    #the summoner ID as DB Key    \n",
    "    #increase and wait    \n",
    "    i = i + 1\n",
    "    time.sleep(2)"
   ]
  },
  {
   "cell_type": "code",
   "execution_count": null,
   "metadata": {
    "collapsed": true
   },
   "outputs": [],
   "source": []
  }
 ],
 "metadata": {
  "kernelspec": {
   "display_name": "Python 3",
   "language": "python",
   "name": "python3"
  },
  "language_info": {
   "codemirror_mode": {
    "name": "ipython",
    "version": 3
   },
   "file_extension": ".py",
   "mimetype": "text/x-python",
   "name": "python",
   "nbconvert_exporter": "python",
   "pygments_lexer": "ipython3",
   "version": "3.6.3"
  }
 },
 "nbformat": 4,
 "nbformat_minor": 1
}
