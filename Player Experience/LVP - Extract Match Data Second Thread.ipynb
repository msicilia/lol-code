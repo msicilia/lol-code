{
 "cells": [
  {
   "cell_type": "code",
   "execution_count": 2,
   "metadata": {
    "collapsed": false
   },
   "outputs": [
    {
     "data": {
      "text/html": [
       "<div>\n",
       "<table border=\"1\" class=\"dataframe\">\n",
       "  <thead>\n",
       "    <tr style=\"text-align: right;\">\n",
       "      <th></th>\n",
       "    </tr>\n",
       "    <tr>\n",
       "      <th>match_id</th>\n",
       "    </tr>\n",
       "  </thead>\n",
       "  <tbody>\n",
       "    <tr>\n",
       "      <th>2853586095</th>\n",
       "    </tr>\n",
       "    <tr>\n",
       "      <th>2807676541</th>\n",
       "    </tr>\n",
       "    <tr>\n",
       "      <th>2807350386</th>\n",
       "    </tr>\n",
       "    <tr>\n",
       "      <th>2804711583</th>\n",
       "    </tr>\n",
       "    <tr>\n",
       "      <th>2795203055</th>\n",
       "    </tr>\n",
       "  </tbody>\n",
       "</table>\n",
       "</div>"
      ],
      "text/plain": [
       "Empty DataFrame\n",
       "Columns: []\n",
       "Index: [2853586095, 2807676541, 2807350386, 2804711583, 2795203055]"
      ]
     },
     "execution_count": 2,
     "metadata": {},
     "output_type": "execute_result"
    }
   ],
   "source": [
    "import json\n",
    "import requests as rq\n",
    "import pandas as pd\n",
    "import time\n",
    "\n",
    "import pymongo\n",
    "from pymongo import MongoClient\n",
    "client = MongoClient()\n",
    "db = client.lol_match_db\n",
    "\n",
    "list_matches = pd.read_excel('MatchIDList_NoDupes.xlsx',\n",
    "                      sheetname = 'match_id_list',\n",
    "                      header = 0,\n",
    "                      index_col = 0,\n",
    "                      parse_cols = \"B\",\n",
    "                      convert_float = True)\n",
    "list_matches.head()"
   ]
  },
  {
   "cell_type": "code",
   "execution_count": 8,
   "metadata": {
    "collapsed": false
   },
   "outputs": [
    {
     "name": "stdout",
     "output_type": "stream",
     "text": [
      "https://euw.api.pvp.net/api/lol/euw/v2.2/match/2853586095?includeTimeline=TRUE&api_key=RGAPI-ffa12ae9-fce4-4201-8c73-ed72cc255f0c\n",
      "200\n"
     ]
    }
   ],
   "source": [
    "apikey = 'RGAPI-ffa12ae9-fce4-4201-8c73-ed72cc255f0c'\n",
    "r = rq.get('https://euw.api.pvp.net/api/lol/euw/v2.2/match/' +'2853586095'\n",
    "           +'?includeTimeline=TRUE&api_key=' + apikey)\n",
    "print 'https://euw.api.pvp.net/api/lol/euw/v2.2/match/' +'2853586095'+'?includeTimeline=TRUE&api_key=' + apikey\n",
    "print r.status_code"
   ]
  },
  {
   "cell_type": "code",
   "execution_count": 24,
   "metadata": {
    "collapsed": false
   },
   "outputs": [],
   "source": [
    "#Execute this second thread concurrently and see what happens\n",
    "\n",
    "i=200000\n",
    "while i < 212500:  \n",
    "    #get all matches for a summoner id\n",
    "    #WARNING: let's do only one request every two seconds\n",
    "    r = rq.get('https://euw.api.pvp.net/api/lol/euw/v2.2/match/' +str(list_matches.index[i])\n",
    "               +'?includeTimeline=TRUE&api_key=' + apikey)\n",
    "    #check response code\n",
    "    while (r.status_code <> 200):\n",
    "        time.sleep(1.5)\n",
    "        r = rq.get('https://euw.api.pvp.net/api/lol/euw/v2.2/match/' +str(list_matches.index[i])\n",
    "               +'?includeTimeline=TRUE&api_key=' + apikey)\n",
    "    \n",
    "    result = db.match_details_2016.insert_one({\"_id\": str(list_matches.index[i]), \"match_detail\":json.loads(r.text)})\n",
    "    #insert into match_list_2016(contains all matches for Season 2016 for any particular summoner) using\n",
    "    #the summoner ID as DB Key    \n",
    "    #increase and wait    \n",
    "    i = i + 1\n",
    "    time.sleep(1.25)"
   ]
  },
  {
   "cell_type": "code",
   "execution_count": 25,
   "metadata": {
    "collapsed": false
   },
   "outputs": [
    {
     "name": "stdout",
     "output_type": "stream",
     "text": [
      "212500\n"
     ]
    }
   ],
   "source": [
    "print i"
   ]
  },
  {
   "cell_type": "code",
   "execution_count": 12,
   "metadata": {
    "collapsed": false
   },
   "outputs": [
    {
     "name": "stdout",
     "output_type": "stream",
     "text": [
      "404\n"
     ]
    }
   ],
   "source": [
    "print r.status_code"
   ]
  },
  {
   "cell_type": "code",
   "execution_count": null,
   "metadata": {
    "collapsed": true
   },
   "outputs": [],
   "source": []
  }
 ],
 "metadata": {
  "kernelspec": {
   "display_name": "Python 2",
   "language": "python",
   "name": "python2"
  },
  "language_info": {
   "codemirror_mode": {
    "name": "ipython",
    "version": 2
   },
   "file_extension": ".py",
   "mimetype": "text/x-python",
   "name": "python",
   "nbconvert_exporter": "python",
   "pygments_lexer": "ipython2",
   "version": "2.7.11"
  }
 },
 "nbformat": 4,
 "nbformat_minor": 0
}
