{
 "cells": [
  {
   "cell_type": "code",
   "execution_count": 1,
   "metadata": {
    "collapsed": true
   },
   "outputs": [],
   "source": [
    "#basics -> imports and apikey\n",
    "import json\n",
    "import requests as rq\n",
    "import pandas as pd\n",
    "import time\n",
    "\n",
    "apikey = '9c594b29-ad69-4833-b88b-db5cdfa30683'"
   ]
  },
  {
   "cell_type": "code",
   "execution_count": 2,
   "metadata": {},
   "outputs": [
    {
     "name": "stdout",
     "output_type": "stream",
     "text": [
      "                  A_Summoner\n",
      "Summoner ID                 \n",
      "19459077           nuskineta\n",
      "20501992     huevodestructor\n",
      "23407188           pitterman\n",
      "27281117             ajrking\n",
      "28306135      marcodiazlocos\n",
      "A_Summoner    440\n",
      "dtype: int64\n"
     ]
    }
   ],
   "source": [
    "list_summoners = pd.read_excel('LVPSummoner.xlsx',\n",
    "                      sheetname = 'table_output',\n",
    "                      header = 0,\n",
    "                      index_col = 0,\n",
    "                      parse_cols = \"A, B\",\n",
    "                      convert_float = True)\n",
    "\n",
    "#check what was actually extracted into the table\n",
    "print list_summoners.head()\n",
    "print list_summoners.count()"
   ]
  },
  {
   "cell_type": "code",
   "execution_count": 3,
   "metadata": {},
   "outputs": [
    {
     "data": {
      "text/plain": [
       "19459077"
      ]
     },
     "execution_count": 3,
     "metadata": {},
     "output_type": "execute_result"
    }
   ],
   "source": [
    "list_summoners.index[0]"
   ]
  },
  {
   "cell_type": "code",
   "execution_count": 4,
   "metadata": {
    "collapsed": true
   },
   "outputs": [],
   "source": [
    "import pymongo\n",
    "from pymongo import MongoClient\n",
    "client = MongoClient()"
   ]
  },
  {
   "cell_type": "code",
   "execution_count": 5,
   "metadata": {
    "collapsed": true
   },
   "outputs": [],
   "source": [
    "db = client.lol_stats_db\n",
    "collection = db.summoner_stats"
   ]
  },
  {
   "cell_type": "code",
   "execution_count": 31,
   "metadata": {
    "collapsed": true
   },
   "outputs": [],
   "source": [
    "## Query MATCHLIST\n",
    "#https://euw.api.pvp.net/api/lol/euw/v2.2/matchlist/by-summoner/230016?rankedQueues=\n",
    "#RANKED_SOLO_5x5,RANKED_TEAM_5x5&seasons=PRESEASON2015,SEASON2015,PRESEASON2016,SEASON2016\n",
    "#&api_key=9c594b29-ad69-4833-b88b-db5cdfa30683\n",
    "\n",
    "## Query MATCH\n",
    "#https://euw.api.pvp.net/api/lol/euw/v2.2/match/2216416155?includeTimeline=TRUE&api_key=9c594b29-ad69-4833-b88b-db5cdfa30683\n"
   ]
  },
  {
   "cell_type": "code",
   "execution_count": 6,
   "metadata": {},
   "outputs": [
    {
     "data": {
      "text/plain": [
       "440"
      ]
     },
     "execution_count": 6,
     "metadata": {},
     "output_type": "execute_result"
    }
   ],
   "source": [
    "len(list_summoners.index)"
   ]
  },
  {
   "cell_type": "code",
   "execution_count": 7,
   "metadata": {},
   "outputs": [
    {
     "data": {
      "text/plain": [
       "200"
      ]
     },
     "execution_count": 7,
     "metadata": {},
     "output_type": "execute_result"
    }
   ],
   "source": [
    "#test with i=0\n",
    "r = rq.get('https://euw.api.pvp.net/api/lol/euw/v1.3/stats/by-summoner/' +str(list_summoners.index[0])+\n",
    "           '/summary?season=SEASON2016&api_key=' + apikey)\n",
    "#check response code \n",
    "r.status_code"
   ]
  },
  {
   "cell_type": "code",
   "execution_count": 8,
   "metadata": {},
   "outputs": [
    {
     "data": {
      "text/plain": [
       "19459077"
      ]
     },
     "execution_count": 8,
     "metadata": {},
     "output_type": "execute_result"
    }
   ],
   "source": [
    "list_summoners.index[0]"
   ]
  },
  {
   "cell_type": "code",
   "execution_count": 9,
   "metadata": {},
   "outputs": [
    {
     "data": {
      "text/plain": [
       "True"
      ]
     },
     "execution_count": 9,
     "metadata": {},
     "output_type": "execute_result"
    }
   ],
   "source": [
    "(r.status_code == 200)"
   ]
  },
  {
   "cell_type": "code",
   "execution_count": 10,
   "metadata": {},
   "outputs": [
    {
     "name": "stdout",
     "output_type": "stream",
     "text": [
      "19459077\n"
     ]
    }
   ],
   "source": [
    "#insert into database\n",
    "###result = db.match_list_2016_5x5.remove({ \"_id\": str(list_summoners.index[0])})\n",
    "result = db.summoner_stats.insert_one({ \"_id\": str(list_summoners.index[0]), \"stats\": json.loads(r.text)} )\n",
    "print result.inserted_id"
   ]
  },
  {
   "cell_type": "code",
   "execution_count": 11,
   "metadata": {},
   "outputs": [],
   "source": [
    "#let's get all stats for each summoner in SEASON 2016\n",
    "i = 1\n",
    "while i < len(list_summoners.index):  \n",
    "    ##result = db.match_list_2016_5x5.remove({ \"_id\": str(list_summoners.index[i])})\n",
    "    #get all matches for a summoner id\n",
    "    #WARNING: let's do only one request every two seconds\n",
    "    r = rq.get('https://euw.api.pvp.net/api/lol/euw/v1.3/stats/by-summoner/' +str(list_summoners.index[i])+\n",
    "           '/summary?season=SEASON2016&api_key=' + apikey)\n",
    "    #check response code\n",
    "    while (r.status_code <> 200):\n",
    "        time.sleep(4)\n",
    "        r = rq.get('https://euw.api.pvp.net/api/lol/euw/v1.3/stats/by-summoner/' +str(list_summoners.index[i])+\n",
    "           '/summary?season=SEASON2016&api_key=' + apikey)\n",
    "    result = db.summoner_stats.insert_one({ \"_id\": str(list_summoners.index[i]), \"stats\": json.loads(r.text)} )\n",
    "    #insert into stats (contains all stats per summoner in season 16)\n",
    "    #the summoner ID as DB Key    \n",
    "    #increase and wait    \n",
    "    i = i + 1\n",
    "    time.sleep(1)"
   ]
  },
  {
   "cell_type": "code",
   "execution_count": 27,
   "metadata": {},
   "outputs": [
    {
     "name": "stdout",
     "output_type": "stream",
     "text": [
      "True\n",
      "6022\n",
      "OK\n"
     ]
    }
   ],
   "source": [
    "cursor = db.summoner_stats.find({\"_id\": str(list_summoners.index[0])})\n",
    "for document in cursor:\n",
    "    print document['stats']['playerStatSummaries'][0]['playerStatSummaryType']  == 'AramUnranked5x5'\n",
    "    print document['stats']['playerStatSummaries'][0]['aggregatedStats']['totalChampionKills']\n",
    "    \n",
    "if (document['stats']['playerStatSummaries'][0]['aggregatedStats']):\n",
    "    print \"OK\""
   ]
  },
  {
   "cell_type": "code",
   "execution_count": 28,
   "metadata": {},
   "outputs": [
    {
     "name": "stdout",
     "output_type": "stream",
     "text": [
      "440\n",
      "440\n",
      "440\n"
     ]
    }
   ],
   "source": [
    "#we want wins from 'RankedFlexSR', 'Unranked'\n",
    "#wins and losses from 'RankedSolo5x5', 'RankedTeam5x5'\n",
    "#and total wins per summoner\n",
    "\n",
    "\n",
    "i=0\n",
    "summoner_list = []\n",
    "total_wins = []\n",
    "total_ranked_wins = []\n",
    "total_ranked_losses = []\n",
    "total_ranked_kills = []\n",
    "total_ranked_assists = []\n",
    "\n",
    "while (i<len(list_summoners)):\n",
    "    cursor = db.summoner_stats.find({\"_id\": str(list_summoners.index[i])})\n",
    "    for document in cursor:\n",
    "        summoner_list.append(document['_id'])\n",
    "        wins = 0\n",
    "        ranked_wins = 0\n",
    "        ranked_losses = 0\n",
    "        ranked_kills = 0\n",
    "        ranked_assists = 0\n",
    "        j=0\n",
    "        while (j<len(document['stats']['playerStatSummaries'])):\n",
    "            queue = document['stats']['playerStatSummaries'][j]['playerStatSummaryType']\n",
    "            if (queue == 'RankedFlexSR' or queue == 'Unranked'):\n",
    "                wins = wins + document['stats']['playerStatSummaries'][j]['wins']\n",
    "            elif (queue == 'RankedSolo5x5' or queue == 'RankedTeam5x5'):\n",
    "                wins = wins + document['stats']['playerStatSummaries'][j]['wins']\n",
    "                ranked_wins = ranked_wins + document['stats']['playerStatSummaries'][j]['wins']\n",
    "                ranked_losses = ranked_losses + document['stats']['playerStatSummaries'][j]['losses']\n",
    "                #check whether list is empty\n",
    "                if (document['stats']['playerStatSummaries'][j]['aggregatedStats']):\n",
    "                    ranked_kills = ranked_kills + document['stats']['playerStatSummaries'][j]['aggregatedStats']['totalChampionKills']\n",
    "                    ranked_assists = ranked_assists + document['stats']['playerStatSummaries'][j]['aggregatedStats']['totalAssists']\n",
    "                else:\n",
    "                    ranked_kills = ranked_kills + 0\n",
    "                    ranked_assists = ranked_assists + 0\n",
    "            j=j+1\n",
    "        total_wins.append(wins)\n",
    "        total_ranked_wins.append(ranked_wins)\n",
    "        total_ranked_losses.append(ranked_losses)\n",
    "        total_ranked_kills.append(ranked_kills)\n",
    "        total_ranked_assists.append(ranked_assists) \n",
    "    i=i+1\n",
    "        \n",
    "print len(summoner_list)\n",
    "print len(total_wins)\n",
    "print len(total_ranked_assists)"
   ]
  },
  {
   "cell_type": "code",
   "execution_count": 30,
   "metadata": {
    "collapsed": true
   },
   "outputs": [],
   "source": [
    "d = {'SummonerID' : summoner_list,'totalWins' : total_wins, 'totalRankedWins' : total_ranked_wins,\n",
    "     'totalRankedLosses' : total_ranked_losses, 'totalRankedKills' : total_ranked_kills,\n",
    "     'totalRankedAssists' : total_ranked_assists}\n",
    "table_summoner_stats = pd.DataFrame(d)"
   ]
  },
  {
   "cell_type": "code",
   "execution_count": 31,
   "metadata": {},
   "outputs": [
    {
     "data": {
      "text/html": [
       "<div>\n",
       "<table border=\"1\" class=\"dataframe\">\n",
       "  <thead>\n",
       "    <tr style=\"text-align: right;\">\n",
       "      <th></th>\n",
       "      <th>SummonerID</th>\n",
       "      <th>totalRankedAssists</th>\n",
       "      <th>totalRankedKills</th>\n",
       "      <th>totalRankedLosses</th>\n",
       "      <th>totalRankedWins</th>\n",
       "      <th>totalWins</th>\n",
       "    </tr>\n",
       "  </thead>\n",
       "  <tbody>\n",
       "    <tr>\n",
       "      <th>0</th>\n",
       "      <td>19459077</td>\n",
       "      <td>725</td>\n",
       "      <td>475</td>\n",
       "      <td>37</td>\n",
       "      <td>32</td>\n",
       "      <td>2311</td>\n",
       "    </tr>\n",
       "    <tr>\n",
       "      <th>1</th>\n",
       "      <td>20501992</td>\n",
       "      <td>66</td>\n",
       "      <td>21</td>\n",
       "      <td>4</td>\n",
       "      <td>3</td>\n",
       "      <td>1730</td>\n",
       "    </tr>\n",
       "    <tr>\n",
       "      <th>2</th>\n",
       "      <td>23407188</td>\n",
       "      <td>2319</td>\n",
       "      <td>256</td>\n",
       "      <td>96</td>\n",
       "      <td>84</td>\n",
       "      <td>380</td>\n",
       "    </tr>\n",
       "    <tr>\n",
       "      <th>3</th>\n",
       "      <td>27281117</td>\n",
       "      <td>407</td>\n",
       "      <td>248</td>\n",
       "      <td>16</td>\n",
       "      <td>21</td>\n",
       "      <td>427</td>\n",
       "    </tr>\n",
       "    <tr>\n",
       "      <th>4</th>\n",
       "      <td>28306135</td>\n",
       "      <td>693</td>\n",
       "      <td>418</td>\n",
       "      <td>32</td>\n",
       "      <td>37</td>\n",
       "      <td>376</td>\n",
       "    </tr>\n",
       "  </tbody>\n",
       "</table>\n",
       "</div>"
      ],
      "text/plain": [
       "  SummonerID  totalRankedAssists  totalRankedKills  totalRankedLosses  \\\n",
       "0   19459077                 725               475                 37   \n",
       "1   20501992                  66                21                  4   \n",
       "2   23407188                2319               256                 96   \n",
       "3   27281117                 407               248                 16   \n",
       "4   28306135                 693               418                 32   \n",
       "\n",
       "   totalRankedWins  totalWins  \n",
       "0               32       2311  \n",
       "1                3       1730  \n",
       "2               84        380  \n",
       "3               21        427  \n",
       "4               37        376  "
      ]
     },
     "execution_count": 31,
     "metadata": {},
     "output_type": "execute_result"
    }
   ],
   "source": [
    "table_summoner_stats.head()"
   ]
  },
  {
   "cell_type": "code",
   "execution_count": 32,
   "metadata": {
    "collapsed": true
   },
   "outputs": [],
   "source": [
    "#Now, let's move this to an excel file\n",
    "\n",
    "# Create a Pandas Excel writer using XlsxWriter as the engine.\n",
    "writer = pd.ExcelWriter('SummonerStats.xlsx', engine='xlsxwriter')\n",
    "# Convert the dataframe to an XlsxWriter Excel object.\n",
    "table_summoner_stats.to_excel(writer, sheet_name='table_summoner_stats')\n",
    "# Close the Pandas Excel writer and output the Excel file.\n",
    "writer.save()"
   ]
  },
  {
   "cell_type": "code",
   "execution_count": null,
   "metadata": {
    "collapsed": true
   },
   "outputs": [],
   "source": []
  }
 ],
 "metadata": {
  "kernelspec": {
   "display_name": "Python 3",
   "language": "python",
   "name": "python3"
  },
  "language_info": {
   "codemirror_mode": {
    "name": "ipython",
    "version": 3
   },
   "file_extension": ".py",
   "mimetype": "text/x-python",
   "name": "python",
   "nbconvert_exporter": "python",
   "pygments_lexer": "ipython3",
   "version": "3.6.3"
  }
 },
 "nbformat": 4,
 "nbformat_minor": 1
}
