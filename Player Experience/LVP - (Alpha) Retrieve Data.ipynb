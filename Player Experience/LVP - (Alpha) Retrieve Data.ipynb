{
 "cells": [
  {
   "cell_type": "code",
   "execution_count": 5,
   "metadata": {},
   "outputs": [
    {
     "name": "stdout",
     "output_type": "stream",
     "text": [
      "True\n",
      "{\n",
      "  \"profileIconId\": 937, \n",
      "  \"summonerLevel\": 30, \n",
      "  \"revisionDate\": 1474807493000, \n",
      "  \"id\": 72862202, \n",
      "  \"name\": \"Brantyn\"\n",
      "}\n"
     ]
    }
   ],
   "source": [
    "import json\n",
    "from riotwatcher import RiotWatcher\n",
    "from riotwatcher import EUROPE_WEST\n",
    "apikey = '9c594b29-ad69-4833-b88b-db5cdfa30683'\n",
    "\n",
    "summoner_name = 'brantyn'\n",
    "\n",
    "w = RiotWatcher(apikey, default_region=EUROPE_WEST)\n",
    "\n",
    "# check if we have API calls remaining\n",
    "print(w.can_make_request())\n",
    "\n",
    "me = w.get_summoner(name=summoner_name)\n",
    "print(json.dumps(me, indent=2))"
   ]
  },
  {
   "cell_type": "code",
   "execution_count": 8,
   "metadata": {},
   "outputs": [
    {
     "name": "stdout",
     "output_type": "stream",
     "text": [
      "200\n",
      "application/json;charset=utf-8\n",
      "{\"brantyn\":{\"id\":72862202,\"name\":\"Brantyn\",\"profileIconId\":937,\"summonerLevel\":30,\"revisionDate\":1474807493000}}\n",
      "{\n",
      "  \"brantyn\": {\n",
      "    \"profileIconId\": 937, \n",
      "    \"summonerLevel\": 30, \n",
      "    \"revisionDate\": 1474807493000, \n",
      "    \"id\": 72862202, \n",
      "    \"name\": \"Brantyn\"\n",
      "  }\n",
      "}\n",
      "<type 'dict'>\n"
     ]
    }
   ],
   "source": [
    "import requests as rq\n",
    "r = rq.get('https://euw.api.pvp.net/api/lol/euw/v1.4/summoner/by-name/' +summoner_name+'?api_key=' + apikey)\n",
    "print r.status_code\n",
    "print r.headers['content-type']\n",
    "print r.text\n",
    "\n",
    "import json\n",
    "summoner = json.loads(r.text)\n",
    "print(json.dumps(summoner, indent=2))\n",
    "print type(summoner)\n",
    "summoner_id = summoner['brantyn']['id'] #ojo amb el case -> aquí és minúscules"
   ]
  },
  {
   "cell_type": "code",
   "execution_count": 55,
   "metadata": {},
   "outputs": [
    {
     "name": "stdout",
     "output_type": "stream",
     "text": [
      "200\n",
      "BRONZE\n"
     ]
    }
   ],
   "source": [
    "#GET SUMMONER RANK\n",
    "#https://euw.api.pvp.net/api/lol/euw/v2.5/league/by-summoner/72862202?api_key=9c594b29-ad69-4833-b88b-db5cdfa30683\n",
    "r = rq.get('https://euw.api.pvp.net/api/lol/euw/v2.5/league/by-summoner/' +str(summoner_id)+'?api_key=' + apikey)\n",
    "print r.status_code\n",
    "\n",
    "import json\n",
    "summoner_rank = json.loads(r.text)\n",
    "print summoner_rank[str(summoner_id)][0]['tier']\n",
    "#print(json.dumps(summoner_rank[str(summoner_id)], indent=2))\n"
   ]
  },
  {
   "cell_type": "code",
   "execution_count": 100,
   "metadata": {},
   "outputs": [
    {
     "name": "stdout",
     "output_type": "stream",
     "text": [
      "200\n"
     ]
    }
   ],
   "source": [
    "#vull treure una llista de summ_ids\n",
    "\n",
    "list_summoner_name='brantyn' + ',' + 'zackell' + ',' +'dimegio shad' + ',' + 'zhertax' + \\\n",
    "',' +'paradisy'+ ',' +'jonander98'+ ',' +'tenkay'+ ',' +'lokimil'+ ',' +'adrisuperz'+ ',' +'ivanfinal'\n",
    "import requests as rq\n",
    "r = rq.get('https://euw.api.pvp.net/api/lol/euw/v1.4/summoner/by-name/' +list_summoner_name+'?api_key=' + apikey)\n",
    "print r.status_code"
   ]
  },
  {
   "cell_type": "code",
   "execution_count": 102,
   "metadata": {},
   "outputs": [
    {
     "name": "stdout",
     "output_type": "stream",
     "text": [
      "brantyn 72862202\n",
      "zackell 23601533\n",
      "zhertax 30458977\n",
      "paradisy 82728416\n",
      "lokimil 40141514\n",
      "ivanfinal 40654472\n",
      "dimegioshad 19178143\n",
      "tenkay 19045921\n",
      "adrisuperz 60298925\n",
      "jonander98 37675886\n"
     ]
    }
   ],
   "source": [
    "import json\n",
    "summoner = json.loads(r.text)\n",
    "#iteramos sobre el diccionario\n",
    "list_summoner_ids = []\n",
    "for k, v in summoner.iteritems():\n",
    "    print k,v['id']\n",
    "    list_summoner_ids.append(v['id'])\n",
    "#list_summoner_ids_str = str(list_summoner_ids).strip('[]')\n",
    "\n"
   ]
  },
  {
   "cell_type": "code",
   "execution_count": 103,
   "metadata": {},
   "outputs": [
    {
     "name": "stdout",
     "output_type": "stream",
     "text": [
      "200\n"
     ]
    }
   ],
   "source": [
    "r = rq.get('https://euw.api.pvp.net/api/lol/euw/v2.5/league/by-summoner/' +str(list_summoner_ids).strip('[]')+'?api_key=' + apikey)\n",
    "print r.status_code\n",
    "import json\n",
    "summoner_rank = json.loads(r.text)"
   ]
  },
  {
   "cell_type": "code",
   "execution_count": 104,
   "metadata": {},
   "outputs": [
    {
     "name": "stdout",
     "output_type": "stream",
     "text": [
      "40654472 SILVER\n",
      "72862202 BRONZE\n",
      "60298925 GOLD\n",
      "40141514 DIAMOND\n",
      "37675886 GOLD\n",
      "19045921 GOLD\n",
      "30458977 PLATINUM\n",
      "19178143 GOLD\n",
      "23601533 GOLD\n"
     ]
    }
   ],
   "source": [
    "for k, v in summoner_rank.iteritems():\n",
    "    print k, v[0]['tier']"
   ]
  },
  {
   "cell_type": "code",
   "execution_count": 1,
   "metadata": {},
   "outputs": [],
   "source": [
    "import pandas as pd\n",
    " \n",
    "table = pd.read_excel('SummonerList.xlsx',\n",
    "                      sheetname = 'Sheet1',\n",
    "                      header = 0,\n",
    "                      index_col = 0,\n",
    "                      parse_cols = \"A, B\",\n",
    "                      convert_float = True)"
   ]
  },
  {
   "cell_type": "code",
   "execution_count": 2,
   "metadata": {},
   "outputs": [
    {
     "data": {
      "text/html": [
       "<div>\n",
       "<table border=\"1\" class=\"dataframe\">\n",
       "  <thead>\n",
       "    <tr style=\"text-align: right;\">\n",
       "      <th></th>\n",
       "      <th>Rango</th>\n",
       "    </tr>\n",
       "    <tr>\n",
       "      <th>Nombre</th>\n",
       "      <th></th>\n",
       "    </tr>\n",
       "  </thead>\n",
       "  <tbody>\n",
       "    <tr>\n",
       "      <th>TEST</th>\n",
       "      <td>No juego ranked</td>\n",
       "    </tr>\n",
       "    <tr>\n",
       "      <th>1 mes</th>\n",
       "      <td>Challenger</td>\n",
       "    </tr>\n",
       "    <tr>\n",
       "      <th>Zackell</th>\n",
       "      <td>Platino</td>\n",
       "    </tr>\n",
       "    <tr>\n",
       "      <th>Dimegio Shad</th>\n",
       "      <td>Challenger</td>\n",
       "    </tr>\n",
       "    <tr>\n",
       "      <th>Zhertax</th>\n",
       "      <td>Platino</td>\n",
       "    </tr>\n",
       "  </tbody>\n",
       "</table>\n",
       "</div>"
      ],
      "text/plain": [
       "                        Rango\n",
       "Nombre                       \n",
       "TEST          No juego ranked\n",
       "1 mes              Challenger\n",
       "Zackell               Platino\n",
       "Dimegio Shad       Challenger\n",
       "Zhertax               Platino"
      ]
     },
     "execution_count": 2,
     "metadata": {},
     "output_type": "execute_result"
    }
   ],
   "source": [
    "table.head()"
   ]
  },
  {
   "cell_type": "code",
   "execution_count": 3,
   "metadata": {},
   "outputs": [
    {
     "name": "stdout",
     "output_type": "stream",
     "text": [
      "TEST\n",
      "1 mes\n",
      "Zackell\n",
      "Dimegio Shad\n",
      "Zhertax\n"
     ]
    }
   ],
   "source": [
    "for index, row in table.head().iterrows():\n",
    "    print str(index)"
   ]
  },
  {
   "cell_type": "code",
   "execution_count": 6,
   "metadata": {},
   "outputs": [
    {
     "name": "stdout",
     "output_type": "stream",
     "text": [
      "['test', '1 mes', 'zackell', 'dimegio shad', 'zhertax']\n",
      "https://euw.api.pvp.net/api/lol/euw/v1.4/summoner/by-name/test, 1 mes, zackell, dimegio shad, zhertax?api_key=9c594b29-ad69-4833-b88b-db5cdfa30683\n"
     ]
    }
   ],
   "source": [
    "list_index = []\n",
    "for index, row in table.head().iterrows():\n",
    "    list_index.append(str(index).lower())\n",
    "print list_index\n",
    "print 'https://euw.api.pvp.net/api/lol/euw/v1.4/summoner/by-name/' +str(list_index).strip('[]').replace(\"'\", \"\")+'?api_key=' + apikey"
   ]
  },
  {
   "cell_type": "code",
   "execution_count": 9,
   "metadata": {},
   "outputs": [
    {
     "name": "stdout",
     "output_type": "stream",
     "text": [
      "200\n",
      "test 65218394\n",
      "zackell 23601533\n",
      "dimegioshad 19178143\n",
      "zhertax 30458977\n"
     ]
    }
   ],
   "source": [
    "r = rq.get('https://euw.api.pvp.net/api/lol/euw/v1.4/summoner/by-name/' +str(list_index).strip('[]').replace(\"'\", \"\")+'?api_key=' + apikey)\n",
    "print r.status_code\n",
    "list_ids = json.loads(r.text)\n",
    "#iteramos sobre el diccionario\n",
    "list_index_ids = []\n",
    "for k, v in list_ids.iteritems():\n",
    "    print k,v['id']\n",
    "    list_index_ids.append(v['id'])"
   ]
  },
  {
   "cell_type": "code",
   "execution_count": 10,
   "metadata": {},
   "outputs": [
    {
     "name": "stdout",
     "output_type": "stream",
     "text": [
      "[65218394, 23601533, 19178143, 30458977]\n"
     ]
    }
   ],
   "source": [
    "print list_index_ids"
   ]
  },
  {
   "cell_type": "code",
   "execution_count": 11,
   "metadata": {},
   "outputs": [
    {
     "name": "stdout",
     "output_type": "stream",
     "text": [
      "200\n"
     ]
    }
   ],
   "source": [
    "r = rq.get('https://euw.api.pvp.net/api/lol/euw/v2.5/league/by-summoner/' +str(list_index_ids).strip('[]')+'?api_key=' + apikey)\n",
    "print r.status_code\n",
    "import json\n",
    "list_index_rank = json.loads(r.text)"
   ]
  },
  {
   "cell_type": "code",
   "execution_count": 12,
   "metadata": {},
   "outputs": [
    {
     "name": "stdout",
     "output_type": "stream",
     "text": [
      "65218394 PLATINUM\n",
      "30458977 PLATINUM\n",
      "19178143 GOLD\n",
      "23601533 GOLD\n"
     ]
    }
   ],
   "source": [
    "for k, v in list_index_rank.iteritems():\n",
    "    print k, v[0]['tier']"
   ]
  },
  {
   "cell_type": "code",
   "execution_count": null,
   "metadata": {
    "collapsed": true
   },
   "outputs": [],
   "source": []
  }
 ],
 "metadata": {
  "kernelspec": {
   "display_name": "Python 2",
   "language": "python",
   "name": "python2"
  },
  "language_info": {
   "codemirror_mode": {
    "name": "ipython",
    "version": 2
   },
   "file_extension": ".py",
   "mimetype": "text/x-python",
   "name": "python",
   "nbconvert_exporter": "python",
   "pygments_lexer": "ipython2",
   "version": "2.7.13"
  }
 },
 "nbformat": 4,
 "nbformat_minor": 1
}
