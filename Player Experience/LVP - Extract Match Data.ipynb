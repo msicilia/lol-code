{
 "cells": [
  {
   "cell_type": "code",
   "execution_count": 1,
   "metadata": {
    "collapsed": true
   },
   "outputs": [],
   "source": [
    "import json\n",
    "import requests as rq\n",
    "import pandas as pd\n",
    "import time\n",
    "\n",
    "apikey = '9c594b29-ad69-4833-b88b-db5cdfa30683'\n",
    "\n",
    "import pymongo\n",
    "from pymongo import MongoClient\n",
    "client = MongoClient()\n",
    "db = client.lol_match_db"
   ]
  },
  {
   "cell_type": "code",
   "execution_count": 2,
   "metadata": {},
   "outputs": [
    {
     "data": {
      "text/html": [
       "<div>\n",
       "<table border=\"1\" class=\"dataframe\">\n",
       "  <thead>\n",
       "    <tr style=\"text-align: right;\">\n",
       "      <th></th>\n",
       "    </tr>\n",
       "    <tr>\n",
       "      <th>match_id</th>\n",
       "    </tr>\n",
       "  </thead>\n",
       "  <tbody>\n",
       "    <tr>\n",
       "      <th>2853586095</th>\n",
       "    </tr>\n",
       "    <tr>\n",
       "      <th>2807676541</th>\n",
       "    </tr>\n",
       "    <tr>\n",
       "      <th>2807350386</th>\n",
       "    </tr>\n",
       "    <tr>\n",
       "      <th>2804711583</th>\n",
       "    </tr>\n",
       "    <tr>\n",
       "      <th>2795203055</th>\n",
       "    </tr>\n",
       "  </tbody>\n",
       "</table>\n",
       "</div>"
      ],
      "text/plain": [
       "Empty DataFrame\n",
       "Columns: []\n",
       "Index: [2853586095, 2807676541, 2807350386, 2804711583, 2795203055]"
      ]
     },
     "execution_count": 2,
     "metadata": {},
     "output_type": "execute_result"
    }
   ],
   "source": [
    "list_matches = pd.read_excel('MatchIDList_NoDupes.xlsx',\n",
    "                      sheetname = 'match_id_list',\n",
    "                      header = 0,\n",
    "                      index_col = 0,\n",
    "                      parse_cols = \"B\",\n",
    "                      convert_float = True)\n",
    "list_matches.head()"
   ]
  },
  {
   "cell_type": "code",
   "execution_count": 6,
   "metadata": {},
   "outputs": [
    {
     "name": "stdout",
     "output_type": "stream",
     "text": [
      "2853586095\n",
      "225128\n"
     ]
    }
   ],
   "source": [
    "print list_matches.index[0]\n",
    "print len(list_matches)"
   ]
  },
  {
   "cell_type": "code",
   "execution_count": 11,
   "metadata": {},
   "outputs": [
    {
     "name": "stdout",
     "output_type": "stream",
     "text": [
      "200\n"
     ]
    }
   ],
   "source": [
    "#first try\n",
    "r = rq.get('https://euw.api.pvp.net/api/lol/euw/v2.2/match/'\n",
    "           +str(list_matches.index[0])+'?includeTimeline=TRUE&api_key=' + apikey)\n",
    "print r.status_code"
   ]
  },
  {
   "cell_type": "code",
   "execution_count": 14,
   "metadata": {},
   "outputs": [
    {
     "name": "stdout",
     "output_type": "stream",
     "text": [
      "Inserted at:2853586095\n"
     ]
    }
   ],
   "source": [
    "result = db.match_details_2016.insert_one({\"_id\": str(list_matches.index[0]), \"match_detail\":json.loads(r.text)})\n",
    "\n",
    "print 'Inserted at:' + result.inserted_id"
   ]
  },
  {
   "cell_type": "code",
   "execution_count": 31,
   "metadata": {},
   "outputs": [],
   "source": [
    "#step by step, let's start by doing 1000\n",
    "#second step, up to 10.000\n",
    "#third step, up to 20.000\n",
    "#third step, up to 35.000 while the other thread goes up to 50.000\n",
    "#up to 150.000 now\n",
    "#up to 200.000\n",
    "\n",
    "i=212500\n",
    "while i < 225128:\n",
    "    #get all matches for a summoner id\n",
    "    #WARNING: let's do only one request every two seconds\n",
    "    r = rq.get('https://euw.api.pvp.net/api/lol/euw/v2.2/match/' +str(list_matches.index[i])\n",
    "               +'?includeTimeline=TRUE&api_key=' + apikey)\n",
    "    #check response code\n",
    "    while (r.status_code <> 200):\n",
    "        time.sleep(1.5)\n",
    "        r = rq.get('https://euw.api.pvp.net/api/lol/euw/v2.2/match/' +str(list_matches.index[i])\n",
    "               +'?includeTimeline=TRUE&api_key=' + apikey)\n",
    "    \n",
    "    result = db.match_details_2016.insert_one({\"_id\": str(list_matches.index[i]), \"match_detail\":json.loads(r.text)})\n",
    "    #insert into match_list_2016(contains all matches for Season 2016 for any particular summoner) using\n",
    "    #the summoner ID as DB Key    \n",
    "    #increase and wait    \n",
    "    i = i + 1\n",
    "    time.sleep(1.25)"
   ]
  },
  {
   "cell_type": "code",
   "execution_count": 32,
   "metadata": {},
   "outputs": [
    {
     "name": "stdout",
     "output_type": "stream",
     "text": [
      "225128\n"
     ]
    }
   ],
   "source": [
    "print i"
   ]
  },
  {
   "cell_type": "code",
   "execution_count": null,
   "metadata": {
    "collapsed": true
   },
   "outputs": [],
   "source": []
  }
 ],
 "metadata": {
  "kernelspec": {
   "display_name": "Python 3",
   "language": "python",
   "name": "python3"
  },
  "language_info": {
   "codemirror_mode": {
    "name": "ipython",
    "version": 3
   },
   "file_extension": ".py",
   "mimetype": "text/x-python",
   "name": "python",
   "nbconvert_exporter": "python",
   "pygments_lexer": "ipython3",
   "version": "3.6.3"
  }
 },
 "nbformat": 4,
 "nbformat_minor": 1
}
